{
 "cells": [
  {
   "cell_type": "code",
   "execution_count": 11,
   "id": "01da2d85",
   "metadata": {},
   "outputs": [
    {
     "name": "stdout",
     "output_type": "stream",
     "text": [
      "Masukkan Gaji Pokok = ?1000000\n",
      "==================================\n"
     ]
    },
    {
     "ename": "TypeError",
     "evalue": "unsupported operand type(s) for +: 'float' and 'tuple'",
     "output_type": "error",
     "traceback": [
      "\u001b[1;31m---------------------------------------------------------------------------\u001b[0m",
      "\u001b[1;31mTypeError\u001b[0m                                 Traceback (most recent call last)",
      "Input \u001b[1;32mIn [11]\u001b[0m, in \u001b[0;36m<cell line: 12>\u001b[1;34m()\u001b[0m\n\u001b[0;32m     10\u001b[0m asr\u001b[38;5;241m=\u001b[39m\u001b[38;5;241m0.02\u001b[39m,\u001b[38;5;241m5\u001b[39m \u001b[38;5;241m*\u001b[39m gator\n\u001b[0;32m     11\u001b[0m \u001b[38;5;66;03m#===Potongan Penghasil\u001b[39;00m\n\u001b[1;32m---> 12\u001b[0m potongan\u001b[38;5;241m=\u001b[39m\u001b[43mpb\u001b[49m\u001b[38;5;241;43m+\u001b[39;49m\u001b[43mkop\u001b[49m\u001b[38;5;241;43m+\u001b[39;49m\u001b[43masr\u001b[49m\n\u001b[0;32m     13\u001b[0m \u001b[38;5;66;03m#===Gaji Bersih\u001b[39;00m\n\u001b[0;32m     14\u001b[0m gaber\u001b[38;5;241m=\u001b[39mgator\u001b[38;5;241m-\u001b[39mpotongan\n",
      "\u001b[1;31mTypeError\u001b[0m: unsupported operand type(s) for +: 'float' and 'tuple'"
     ]
    }
   ],
   "source": [
    "gapok=int(input(\"Masukkan Gaji Pokok = ?\"))\n",
    "print(\"==================================\")\n",
    "tf=0.1 * gapok\n",
    "ts=0.05 * gapok\n",
    "tk=0.12 * gapok\n",
    "#===Pendapatan Kotor\n",
    "gator=gapok+tf+ts+tk\n",
    "pb=0.3 * gator\n",
    "kop=0.03 * gator\n",
    "asr=0.02,5 * gator\n",
    "#===Potongan Penghasil\n",
    "potongan=pb+kop+asr\n",
    "#===Gaji Bersih\n",
    "gaber=gator-potongan\n",
    "print(\"Gaji Pokok = \",gapok)\n",
    "print(\"==================================\")\n",
    "print(\"Potongan   = \",potongan)\n",
    "print(\"==================================\")\n",
    "print(\"Gaji Bersih = \",gator, \"-\",potongan,\"=\",gaber)\n",
    "print(gaber)\n",
    "\n"
   ]
  },
  {
   "cell_type": "code",
   "execution_count": null,
   "id": "37de6923",
   "metadata": {},
   "outputs": [],
   "source": []
  }
 ],
 "metadata": {
  "kernelspec": {
   "display_name": "Python 3 (ipykernel)",
   "language": "python",
   "name": "python3"
  },
  "language_info": {
   "codemirror_mode": {
    "name": "ipython",
    "version": 3
   },
   "file_extension": ".py",
   "mimetype": "text/x-python",
   "name": "python",
   "nbconvert_exporter": "python",
   "pygments_lexer": "ipython3",
   "version": "3.9.12"
  }
 },
 "nbformat": 4,
 "nbformat_minor": 5
}
