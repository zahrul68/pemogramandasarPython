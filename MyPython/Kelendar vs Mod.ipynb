{
 "cells": [
  {
   "cell_type": "code",
   "execution_count": 2,
   "id": "ac8eb792",
   "metadata": {},
   "outputs": [
    {
     "name": "stdout",
     "output_type": "stream",
     "text": [
      "Masukkan Tahun : 2032\n",
      "Masukkan Tahun : 2\n",
      "   February 2032\n",
      "Mo Tu We Th Fr Sa Su\n",
      "                   1\n",
      " 2  3  4  5  6  7  8\n",
      " 9 10 11 12 13 14 15\n",
      "16 17 18 19 20 21 22\n",
      "23 24 25 26 27 28 29\n",
      "\n",
      "0\n",
      "Tahun Non Kabisat\n"
     ]
    }
   ],
   "source": [
    "import calendar\n",
    "yy=input(\"Masukkan Tahun : \")\n",
    "dd=input(\"Masukkan Tahun : \")\n",
    "print(calendar.month(int(yy),int(dd)))\n",
    "if print(int(yy[-2:]) % 4) == 0:\n",
    "    print(\"Tahun Kabisat \")\n",
    "else:\n",
    "    print(\"Tahun Non Kabisat\")\n"
   ]
  },
  {
   "cell_type": "code",
   "execution_count": 3,
   "id": "da383f13",
   "metadata": {},
   "outputs": [
    {
     "name": "stdout",
     "output_type": "stream",
     "text": [
      "Besar Simpanan : Rp.10000000\n",
      "Jumlah hari :365\n",
      "Besaran Suku Bunga : %.7\n",
      "=========================\n",
      "Bunga Bank : Rp.  700000.0000000001\n",
      "Saldo      : Rp.  10700000.0\n"
     ]
    }
   ],
   "source": [
    "sp=int(input(\"Besar Simpanan : Rp.\"))\n",
    "jh=int(input(\"Jumlah hari :\"))\n",
    "lm=(jh/365)\n",
    "sbi=int(input(\"Besaran Suku Bunga : %.\"))\n",
    "bg=((sbi/100)*lm)*sp\n",
    "saldo=sp+bg\n",
    "print (\"=========================\")\n",
    "print(\"Bunga Bank : Rp. \", str(bg))\n",
    "print(\"Saldo      : Rp. \",str(saldo))"
   ]
  },
  {
   "cell_type": "code",
   "execution_count": 32,
   "id": "f66e2c44",
   "metadata": {},
   "outputs": [
    {
     "name": "stdout",
     "output_type": "stream",
     "text": [
      "12\n",
      "24\n",
      "36\n",
      "48\n",
      "60\n"
     ]
    }
   ],
   "source": [
    "for i in range(1,5+1):\n",
    "    #print(i)\n",
    "    print(i*12)"
   ]
  },
  {
   "cell_type": "code",
   "execution_count": null,
   "id": "f1cc4e04",
   "metadata": {},
   "outputs": [],
   "source": []
  }
 ],
 "metadata": {
  "kernelspec": {
   "display_name": "Python 3 (ipykernel)",
   "language": "python",
   "name": "python3"
  },
  "language_info": {
   "codemirror_mode": {
    "name": "ipython",
    "version": 3
   },
   "file_extension": ".py",
   "mimetype": "text/x-python",
   "name": "python",
   "nbconvert_exporter": "python",
   "pygments_lexer": "ipython3",
   "version": "3.9.12"
  }
 },
 "nbformat": 4,
 "nbformat_minor": 5
}
