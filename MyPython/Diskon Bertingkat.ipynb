{
 "cells": [
  {
   "cell_type": "code",
   "execution_count": 5,
   "id": "bf4e7586",
   "metadata": {},
   "outputs": [
    {
     "name": "stdout",
     "output_type": "stream",
     "text": [
      "Masukkan Harga Barang : Rp.100000\n",
      "==========================\n",
      "Diskoun Awal : Rp. 30000.0\n",
      "pembayaran   : Rp. 15000.0\n",
      "==========================\n"
     ]
    }
   ],
   "source": [
    "hj=int(input(\"Masukkan Harga Barang : Rp.\"))\n",
    "print(\"==========================\")\n",
    "d=hj-(hj* 0.7)\n",
    "d2=d-(d*0.5)\n",
    "\n",
    "print (\"Diskoun Awal : Rp.\",d)\n",
    "print (\"pembayaran   : Rp.\",d2)\n",
    "print(\"==========================\")\n"
   ]
  },
  {
   "cell_type": "code",
   "execution_count": null,
   "id": "8284f9ed",
   "metadata": {},
   "outputs": [],
   "source": []
  }
 ],
 "metadata": {
  "kernelspec": {
   "display_name": "Python 3 (ipykernel)",
   "language": "python",
   "name": "python3"
  },
  "language_info": {
   "codemirror_mode": {
    "name": "ipython",
    "version": 3
   },
   "file_extension": ".py",
   "mimetype": "text/x-python",
   "name": "python",
   "nbconvert_exporter": "python",
   "pygments_lexer": "ipython3",
   "version": "3.9.12"
  }
 },
 "nbformat": 4,
 "nbformat_minor": 5
}
