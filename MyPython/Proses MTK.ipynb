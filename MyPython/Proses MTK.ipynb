{
 "cells": [
  {
   "cell_type": "code",
   "execution_count": 1,
   "id": "c8e119f7",
   "metadata": {},
   "outputs": [
    {
     "name": "stdout",
     "output_type": "stream",
     "text": [
      "Gaji Pokok =  100000.0\n",
      "Tunjangan =  100000.0\n",
      "Potongan =  50000.0\n",
      "Gaji Bersih = 1050000.0\n"
     ]
    }
   ],
   "source": [
    "a=1000000\n",
    "b=(0.1)*a\n",
    "c=(0.05)*a\n",
    "h=(a+b)-c\n",
    "print (\"Gaji Pokok = \",b)\n",
    "print (\"Tunjangan = \",b)\n",
    "print (\"Potongan = \",c)\n",
    "print (\"Gaji Bersih =\",h)"
   ]
  },
  {
   "cell_type": "code",
   "execution_count": 2,
   "id": "967abbd8",
   "metadata": {},
   "outputs": [
    {
     "name": "stdout",
     "output_type": "stream",
     "text": [
      "Masukkan Gaji Pokok = 2000000\n",
      "Masukkan Tun Fungsional % = 10\n",
      "Masukkan Tunj Jabatan  %  = 5\n",
      "Masukkan Tunj Keluarga % = 3\n",
      "Masukkan Potongan Bank % = 30\n",
      "Masukkan Koperasi % = 1\n",
      "Masukkan Asuransi % = 1\n",
      "Gaji Pokok    =  2000000\n",
      "Gaji Kotor    =  2360000.0\n",
      "Potongan Gaji =  755200.0\n",
      "Gaji Bersih =  2360000.0 - 755200.0 = 1604800.0\n"
     ]
    }
   ],
   "source": [
    "# variabel yang dibutuhkan untuk membuat aplikasi gaji sederhana\n",
    "gapok=int(input(\"Masukkan Gaji Pokok = \"  ))\n",
    "tFungsional=int(input(\"Masukkan Tun Fungsional % = \" ))\n",
    "tJabatan=int(input(\"Masukkan Tunj Jabatan  %  = \" ))\n",
    "tKeluarga=int(input(\"Masukkan Tunj Keluarga % = \"))\n",
    "pBank=int(input(\"Masukkan Potongan Bank % = \"))\n",
    "pKoperasi=int(input(\"Masukkan Koperasi % = \"))\n",
    "asuransi=int(input(\"Masukkan Asuransi % = \" ))\n",
    "TF=(tFungsional/100)* gapok\n",
    "TJ=(tJabatan/100)* gapok\n",
    "TK=(tKeluarga/100)* gapok\n",
    "gator=gapok+TF+TJ+TK\n",
    "PB=(pBank/100)*gator\n",
    "PK=(pKoperasi/100) * gator\n",
    "AS=(asuransi/100)* gator\n",
    "potongan =PB+PK+AS\n",
    "gaber=gator-potongan\n",
    "print (\"Gaji Pokok    = \",gapok)\n",
    "print (\"Gaji Kotor    = \",gator)\n",
    "print (\"Potongan Gaji = \",potongan)\n",
    "print (\"Gaji Bersih = \", gator ,\"-\",potongan,\"=\",gaber)\n"
   ]
  },
  {
   "cell_type": "code",
   "execution_count": 40,
   "id": "0c0d8fef",
   "metadata": {},
   "outputs": [
    {
     "name": "stdout",
     "output_type": "stream",
     "text": [
      "Masukkan Suhu Celsius 45\n",
      "Suhu dalam celsius = 45.0  Dalam Fahreinhet 113.0\n"
     ]
    }
   ],
   "source": [
    "c=float(input(\"Masukkan Suhu Celsius \"))\n",
    "xfah=((9/5)*c)+32\n",
    "print (\"Suhu dalam celsius =\",c ,\" Dalam Fahreinhet\", xfah)"
   ]
  },
  {
   "cell_type": "code",
   "execution_count": null,
   "id": "cca46c50",
   "metadata": {},
   "outputs": [],
   "source": []
  }
 ],
 "metadata": {
  "kernelspec": {
   "display_name": "Python 3 (ipykernel)",
   "language": "python",
   "name": "python3"
  },
  "language_info": {
   "codemirror_mode": {
    "name": "ipython",
    "version": 3
   },
   "file_extension": ".py",
   "mimetype": "text/x-python",
   "name": "python",
   "nbconvert_exporter": "python",
   "pygments_lexer": "ipython3",
   "version": "3.9.12"
  }
 },
 "nbformat": 4,
 "nbformat_minor": 5
}
