{
 "cells": [
  {
   "cell_type": "code",
   "execution_count": 1,
   "id": "42e81f11",
   "metadata": {},
   "outputs": [
    {
     "name": "stdout",
     "output_type": "stream",
     "text": [
      "Volume Balok = 280\n"
     ]
    }
   ],
   "source": [
    "def Balok(p,l,t):\n",
    "    return p*l*t\n",
    "print(\"Volume Balok =\",Balok(10,7,4))"
   ]
  },
  {
   "cell_type": "code",
   "execution_count": 2,
   "id": "befc7a2e",
   "metadata": {},
   "outputs": [
    {
     "name": "stdout",
     "output_type": "stream",
     "text": [
      "Volume Balok = 280\n"
     ]
    }
   ],
   "source": [
    "Blk=lambda p,l,t : p*l*t\n",
    "print(\"Volume Balok =\",Blk(10,7,4))"
   ]
  },
  {
   "cell_type": "code",
   "execution_count": 3,
   "id": "f7148feb",
   "metadata": {},
   "outputs": [
    {
     "name": "stdout",
     "output_type": "stream",
     "text": [
      "Volume Balok = 280\n"
     ]
    }
   ],
   "source": [
    "p=10\n",
    "l=7\n",
    "t=4\n",
    "xBalok=p*l*t\n",
    "print(\"Volume Balok =\",xBalok)"
   ]
  },
  {
   "cell_type": "code",
   "execution_count": null,
   "id": "a67ce524",
   "metadata": {},
   "outputs": [],
   "source": []
  }
 ],
 "metadata": {
  "kernelspec": {
   "display_name": "Python 3 (ipykernel)",
   "language": "python",
   "name": "python3"
  },
  "language_info": {
   "codemirror_mode": {
    "name": "ipython",
    "version": 3
   },
   "file_extension": ".py",
   "mimetype": "text/x-python",
   "name": "python",
   "nbconvert_exporter": "python",
   "pygments_lexer": "ipython3",
   "version": "3.9.12"
  }
 },
 "nbformat": 4,
 "nbformat_minor": 5
}
