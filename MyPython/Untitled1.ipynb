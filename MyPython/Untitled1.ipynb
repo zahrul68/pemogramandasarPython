{
 "cells": [
  {
   "cell_type": "code",
   "execution_count": 1,
   "id": "b2aff2b8",
   "metadata": {},
   "outputs": [
    {
     "name": "stdout",
     "output_type": "stream",
     "text": [
      "Harga Barang : RP.100000\n",
      "Diskon Awal : Rp. 30000.0\n",
      "Pembayaran  : Rp. 21000.0\n"
     ]
    }
   ],
   "source": [
    "Hb=int(input(\"Harga Barang : RP.\"))\n",
    "d=Hb-((Hb)* 0.7)\n",
    "d2=d-((d)* 0.3)\n",
    "print(\"Diskon Awal : Rp.\",d)\n",
    "print(\"Pembayaran  : Rp.\",d2)"
   ]
  },
  {
   "cell_type": "code",
   "execution_count": 2,
   "id": "c62b4902",
   "metadata": {},
   "outputs": [
    {
     "name": "stdout",
     "output_type": "stream",
     "text": [
      "Harga Barang : RP.50000\n",
      "Jumlah : 2\n",
      "Pembayaran  : Rp. 21000.0\n"
     ]
    }
   ],
   "source": [
    "hrg=int(input(\"Harga Barang : RP.\"))\n",
    "jml=int(input(\"Jumlah : \"))\n",
    "hasil=hrg*jml\n",
    "if (hasil>=100000):\n",
    "    d=hasil-((hasil)* 0.7)\n",
    "    d2=d-((d)* 0.3)\n",
    "    print(\"Pembayaran  : Rp.\",d2)\n",
    "else:\n",
    "    d=hasil-((hasil)* 0.7)\n",
    "    print(\"Pembayaran  : Rp.\",d)              "
   ]
  },
  {
   "cell_type": "code",
   "execution_count": 3,
   "id": "8e3287df",
   "metadata": {},
   "outputs": [
    {
     "name": "stdout",
     "output_type": "stream",
     "text": [
      "Harga Barang : RP.50000\n",
      "Jumlah : 1\n",
      "Pembayaran  : Rp. 15000.0\n"
     ]
    }
   ],
   "source": [
    "hrg=int(input(\"Harga Barang : RP.\"))\n",
    "jml=int(input(\"Jumlah : \"))\n",
    "hasil=hrg*jml\n",
    "if (hasil>=100000):\n",
    "    d=hasil-((hasil)* 0.7)\n",
    "    d2=d-((d)* 0.3)\n",
    "    print(\"Pembayaran  : Rp.\",d2)\n",
    "else:\n",
    "    d=hasil-((hasil)* 0.7)\n",
    "    print(\"Pembayaran  : Rp.\",d)              "
   ]
  },
  {
   "cell_type": "code",
   "execution_count": null,
   "id": "b4180760",
   "metadata": {},
   "outputs": [],
   "source": []
  }
 ],
 "metadata": {
  "kernelspec": {
   "display_name": "Python 3 (ipykernel)",
   "language": "python",
   "name": "python3"
  },
  "language_info": {
   "codemirror_mode": {
    "name": "ipython",
    "version": 3
   },
   "file_extension": ".py",
   "mimetype": "text/x-python",
   "name": "python",
   "nbconvert_exporter": "python",
   "pygments_lexer": "ipython3",
   "version": "3.9.12"
  }
 },
 "nbformat": 4,
 "nbformat_minor": 5
}
