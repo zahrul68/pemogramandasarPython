{
 "cells": [
  {
   "cell_type": "code",
   "execution_count": 1,
   "id": "85af69d1",
   "metadata": {},
   "outputs": [
    {
     "name": "stdout",
     "output_type": "stream",
     "text": [
      "1000\n",
      "125\n"
     ]
    }
   ],
   "source": [
    "def kubus(i):\n",
    "    return i*i*i\n",
    "lambda_kubus= lambda i: i*i*i\n",
    "print(kubus(10))\n",
    "print(lambda_kubus(5))"
   ]
  },
  {
   "cell_type": "code",
   "execution_count": 2,
   "id": "057dfe49",
   "metadata": {},
   "outputs": [],
   "source": [
    "def tambah(x):\n",
    "    return x+x\n",
    "def kurang(x):\n",
    "    return x-x\n",
    "def kali(x):\n",
    "    return x*x\n",
    "def bagi(x):\n",
    "    return x/x\n"
   ]
  },
  {
   "cell_type": "code",
   "execution_count": 3,
   "id": "cac1accb",
   "metadata": {},
   "outputs": [
    {
     "name": "stdout",
     "output_type": "stream",
     "text": [
      "100\n"
     ]
    }
   ],
   "source": [
    "x=kali(10)\n",
    "print(x)"
   ]
  },
  {
   "cell_type": "code",
   "execution_count": 4,
   "id": "dc2aa1ee",
   "metadata": {},
   "outputs": [],
   "source": [
    "def tambah(x,y):\n",
    "    return x+y\n",
    "def kurang(x,y):\n",
    "    return x-y\n",
    "def kali(x,y):\n",
    "    return x*y\n",
    "def bagi(x,y):\n",
    "    return x/y"
   ]
  },
  {
   "cell_type": "code",
   "execution_count": 5,
   "id": "a05d617d",
   "metadata": {},
   "outputs": [
    {
     "name": "stdout",
     "output_type": "stream",
     "text": [
      "15\n"
     ]
    }
   ],
   "source": [
    "a=tambah(5,10)\n",
    "print(a)"
   ]
  },
  {
   "cell_type": "code",
   "execution_count": 6,
   "id": "0dfdaa85",
   "metadata": {},
   "outputs": [
    {
     "name": "stdout",
     "output_type": "stream",
     "text": [
      "10\n"
     ]
    }
   ],
   "source": [
    "data=lambda i,j : i + j\n",
    "print(data(5,5))\n"
   ]
  },
  {
   "cell_type": "code",
   "execution_count": 7,
   "id": "a8940d5e",
   "metadata": {},
   "outputs": [
    {
     "name": "stdout",
     "output_type": "stream",
     "text": [
      "150\n"
     ]
    }
   ],
   "source": [
    "from functools import reduce\n",
    "data=[10, 20, 30, 40, 50]\n",
    "hasil=reduce ((lambda i,j : i + j), data)\n",
    "print(hasil)"
   ]
  },
  {
   "cell_type": "code",
   "execution_count": null,
   "id": "33de3940",
   "metadata": {},
   "outputs": [],
   "source": []
  },
  {
   "cell_type": "code",
   "execution_count": 8,
   "id": "d74c549e",
   "metadata": {},
   "outputs": [
    {
     "name": "stdout",
     "output_type": "stream",
     "text": [
      "54000\n"
     ]
    }
   ],
   "source": [
    "x = lambda a, b, c : a * b * c\n",
    "print(x(60, 30, 30))"
   ]
  },
  {
   "cell_type": "code",
   "execution_count": null,
   "id": "965b1468",
   "metadata": {},
   "outputs": [],
   "source": []
  }
 ],
 "metadata": {
  "kernelspec": {
   "display_name": "Python 3 (ipykernel)",
   "language": "python",
   "name": "python3"
  },
  "language_info": {
   "codemirror_mode": {
    "name": "ipython",
    "version": 3
   },
   "file_extension": ".py",
   "mimetype": "text/x-python",
   "name": "python",
   "nbconvert_exporter": "python",
   "pygments_lexer": "ipython3",
   "version": "3.9.12"
  }
 },
 "nbformat": 4,
 "nbformat_minor": 5
}
