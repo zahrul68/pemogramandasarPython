{
 "cells": [
  {
   "cell_type": "code",
   "execution_count": 5,
   "id": "b33e41c8",
   "metadata": {},
   "outputs": [
    {
     "name": "stdout",
     "output_type": "stream",
     "text": [
      "Nim = 22111010\n",
      "Nama =Junaidi\n",
      "7\n",
      "==============================\n",
      "Nama Saya  Junaidi  :  1\n",
      "Nama Saya  Junaidi  :  2\n",
      "Nama Saya  Junaidi  :  3\n",
      "Nama Saya  Junaidi  :  4\n",
      "Nama Saya  Junaidi  :  5\n",
      "Nama Saya  Junaidi  :  6\n",
      "Nama Saya  Junaidi  :  7\n",
      "Nama Saya  Junaidi  :  8\n",
      "Nama Saya  Junaidi  :  9\n",
      "Nama Saya  Junaidi  :  10\n"
     ]
    }
   ],
   "source": [
    "#Berdasarkan Nim\n",
    "nim=(input(\"Nim = \"))\n",
    "nama=input(\"Nama =\")\n",
    "print(len(nama))\n",
    "print(\"=\" * 30)\n",
    "for i in range (1,int(nim[-3:])+1):\n",
    "    print(\"Nama Saya \",nama , \" : \",i)\n",
    "    "
   ]
  },
  {
   "cell_type": "code",
   "execution_count": 6,
   "id": "7739dc87",
   "metadata": {},
   "outputs": [
    {
     "name": "stdout",
     "output_type": "stream",
     "text": [
      "Nim = 22111010\n",
      "Nama =Junaidi Surya\n",
      "13\n",
      "==============================\n",
      "Nama Saya  Junaidi Surya  :  1\n",
      "Nama Saya  Junaidi Surya  :  2\n",
      "Nama Saya  Junaidi Surya  :  3\n",
      "Nama Saya  Junaidi Surya  :  4\n",
      "Nama Saya  Junaidi Surya  :  5\n",
      "Nama Saya  Junaidi Surya  :  6\n",
      "Nama Saya  Junaidi Surya  :  7\n",
      "Nama Saya  Junaidi Surya  :  8\n",
      "Nama Saya  Junaidi Surya  :  9\n",
      "Nama Saya  Junaidi Surya  :  10\n",
      "Nama Saya  Junaidi Surya  :  11\n",
      "Nama Saya  Junaidi Surya  :  12\n",
      "Nama Saya  Junaidi Surya  :  13\n"
     ]
    }
   ],
   "source": [
    "#Berdasarkan Panjang Nama\n",
    "nim=(input(\"Nim = \"))\n",
    "nama=input(\"Nama =\")\n",
    "print(len(nama))\n",
    "print(\"=\" * 30)\n",
    "for i in range (1,int(len(nama))+1):\n",
    "    print(\"Nama Saya \",nama , \" : \",i)\n",
    "    "
   ]
  },
  {
   "cell_type": "code",
   "execution_count": 22,
   "id": "62ef1eac",
   "metadata": {},
   "outputs": [
    {
     "name": "stdout",
     "output_type": "stream",
     "text": [
      "Jumlah Pinjaman = Rp.10000000\n",
      "Lama Pinjaman = 1\n",
      "==============================\n",
      "Uang Muka = Rp. 2500000.0\n",
      "Angsuran Pokok /Bln = Rp. 625000.0\n",
      "Bunga /Bln = Rp. 68750.0\n",
      "Angsuran /Bln = Rp. 693750.0\n",
      "Total Angsuran = Rp. 8325000.0\n"
     ]
    }
   ],
   "source": [
    "#x=36000000\n",
    "#dp=25, bg=11\n",
    "x=int(input(\"Jumlah Pinjaman = Rp.\"))\n",
    "tn=int(input(\"Lama Pinjaman = \"))\n",
    "print(\"=\" * 30)\n",
    "dp=x*(0.25)\n",
    "bg=(x-dp)*((0.11)/12)\n",
    "angs=(x-dp)/(tn*12)\n",
    "print(\"Uang Muka = Rp.\", dp)\n",
    "print(\"Angsuran Pokok /Bln = Rp.\", angs)\n",
    "print(\"Bunga /Bln = Rp.\", bg)\n",
    "print(\"Angsuran /Bln = Rp.\", (angs+bg))\n",
    "print(\"Total Angsuran = Rp.\", (angs+bg)*(tn*12))"
   ]
  },
  {
   "cell_type": "code",
   "execution_count": null,
   "id": "eb4ad36d",
   "metadata": {},
   "outputs": [],
   "source": []
  }
 ],
 "metadata": {
  "kernelspec": {
   "display_name": "Python 3 (ipykernel)",
   "language": "python",
   "name": "python3"
  },
  "language_info": {
   "codemirror_mode": {
    "name": "ipython",
    "version": 3
   },
   "file_extension": ".py",
   "mimetype": "text/x-python",
   "name": "python",
   "nbconvert_exporter": "python",
   "pygments_lexer": "ipython3",
   "version": "3.9.12"
  }
 },
 "nbformat": 4,
 "nbformat_minor": 5
}
