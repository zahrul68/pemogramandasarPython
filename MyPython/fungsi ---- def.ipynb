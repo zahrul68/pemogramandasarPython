{
 "cells": [
  {
   "cell_type": "code",
   "execution_count": 1,
   "id": "f6a06880",
   "metadata": {},
   "outputs": [],
   "source": [
    "def sapa_unh():\n",
    "    print(\" 1 Selamat Data\")\n",
    "    print(\" 2 Mahasiswa Baru\")\n",
    "    print(\" 3 Tahun Akademik 2022/2023\")\n",
    "    print(\" 4 Di Universitas Nurdin Hamzah\")\n"
   ]
  },
  {
   "cell_type": "code",
   "execution_count": 2,
   "id": "0ce223f8",
   "metadata": {},
   "outputs": [
    {
     "name": "stdout",
     "output_type": "stream",
     "text": [
      " 1 Selamat Data\n",
      " 2 Mahasiswa Baru\n",
      " 3 Tahun Akademik 2022/2023\n",
      " 4 Di Universitas Nurdin Hamzah\n",
      " 1 Selamat Data\n",
      " 2 Mahasiswa Baru\n",
      " 3 Tahun Akademik 2022/2023\n",
      " 4 Di Universitas Nurdin Hamzah\n"
     ]
    }
   ],
   "source": [
    "sapa_unh()\n",
    "sapa_unh()"
   ]
  },
  {
   "cell_type": "code",
   "execution_count": 3,
   "id": "98658de8",
   "metadata": {},
   "outputs": [],
   "source": [
    "def x():\n",
    "    print(\" Di Universitas Terbuka\")"
   ]
  },
  {
   "cell_type": "code",
   "execution_count": 4,
   "id": "df0afede",
   "metadata": {},
   "outputs": [
    {
     "name": "stdout",
     "output_type": "stream",
     "text": [
      " Di Universitas Terbuka\n"
     ]
    }
   ],
   "source": [
    "x()"
   ]
  },
  {
   "cell_type": "code",
   "execution_count": 5,
   "id": "88c6ee18",
   "metadata": {},
   "outputs": [
    {
     "name": "stdout",
     "output_type": "stream",
     "text": [
      " 1 Selamat Data\n",
      " 2 Mahasiswa Baru\n",
      " 3 Tahun Akademik 2022/2023\n",
      " 4 Di Universitas Nurdin Hamzah\n",
      " Di Universitas Terbuka\n"
     ]
    }
   ],
   "source": [
    "sapa_unh()\n",
    "x()"
   ]
  },
  {
   "cell_type": "code",
   "execution_count": 6,
   "id": "ee4a5165",
   "metadata": {},
   "outputs": [],
   "source": [
    "def data(x):\n",
    "    return 3*x"
   ]
  },
  {
   "cell_type": "code",
   "execution_count": 7,
   "id": "761cc63c",
   "metadata": {},
   "outputs": [],
   "source": [
    "a=data(4)\n",
    "b=data(5)"
   ]
  },
  {
   "cell_type": "code",
   "execution_count": 8,
   "id": "eef8b41e",
   "metadata": {},
   "outputs": [
    {
     "name": "stdout",
     "output_type": "stream",
     "text": [
      "12\n",
      "15\n"
     ]
    }
   ],
   "source": [
    "print(a)\n",
    "print(b)"
   ]
  },
  {
   "cell_type": "code",
   "execution_count": 9,
   "id": "4351b915",
   "metadata": {},
   "outputs": [],
   "source": [
    "def data2(x,y):\n",
    "    return x*y\n",
    "\n",
    "def kompi(x,y):\n",
    "    return  x**y\n",
    "   "
   ]
  },
  {
   "cell_type": "code",
   "execution_count": 10,
   "id": "225371da",
   "metadata": {},
   "outputs": [],
   "source": [
    "c=data2(3,3)\n",
    "d=kompi(3,2)"
   ]
  },
  {
   "cell_type": "code",
   "execution_count": 11,
   "id": "a5e86e4b",
   "metadata": {},
   "outputs": [
    {
     "name": "stdout",
     "output_type": "stream",
     "text": [
      "Hasil Kali 9\n",
      "Hasil Pangkat 9\n"
     ]
    }
   ],
   "source": [
    "print(\"Hasil Kali\",c)\n",
    "print(\"Hasil Pangkat\",d)"
   ]
  },
  {
   "cell_type": "code",
   "execution_count": 12,
   "id": "94301208",
   "metadata": {},
   "outputs": [
    {
     "name": "stdout",
     "output_type": "stream",
     "text": [
      "Penggabungan = 81\n"
     ]
    }
   ],
   "source": [
    "print(\"Penggabungan =\", c*d)"
   ]
  },
  {
   "cell_type": "code",
   "execution_count": null,
   "id": "2e312200",
   "metadata": {},
   "outputs": [],
   "source": []
  }
 ],
 "metadata": {
  "kernelspec": {
   "display_name": "Python 3 (ipykernel)",
   "language": "python",
   "name": "python3"
  },
  "language_info": {
   "codemirror_mode": {
    "name": "ipython",
    "version": 3
   },
   "file_extension": ".py",
   "mimetype": "text/x-python",
   "name": "python",
   "nbconvert_exporter": "python",
   "pygments_lexer": "ipython3",
   "version": "3.9.12"
  }
 },
 "nbformat": 4,
 "nbformat_minor": 5
}
