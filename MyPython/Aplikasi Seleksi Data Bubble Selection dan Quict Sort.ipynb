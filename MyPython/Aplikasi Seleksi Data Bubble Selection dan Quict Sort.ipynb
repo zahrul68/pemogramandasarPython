{
 "cells": [
  {
   "cell_type": "code",
   "execution_count": 1,
   "id": "f0bb4cab",
   "metadata": {},
   "outputs": [
    {
     "name": "stdout",
     "output_type": "stream",
     "text": [
      "[8, 10, 18, 47, 55, 78, 79, 98, 100, 1001]\n",
      "[9, 14, 27, 33, 35]\n"
     ]
    }
   ],
   "source": [
    "def bubble(x):\n",
    "    for i in range(len(x)-1,0,-1):\n",
    "        for j in range(i):\n",
    "            if x[j]> x[j+1]:\n",
    "                temp = x[j]\n",
    "                x[j]=x[j+1]\n",
    "                x[j+1]=temp\n",
    "angka = [47,10,98,1001,8,79,100,55,78,18]\n",
    "angka2=[14,33,27,35,9]\n",
    "bubble(angka)\n",
    "print(angka)\n",
    "bubble(angka2)\n",
    "print(angka2)\n"
   ]
  },
  {
   "cell_type": "code",
   "execution_count": 2,
   "id": "a4152ce7",
   "metadata": {},
   "outputs": [
    {
     "name": "stdout",
     "output_type": "stream",
     "text": [
      "Masukkan data yang akan di sortir : 99 7 101 3 87 69 44 51 2\n",
      "Hasil Sortir Data : [2, 3, 7, 44, 51, 69, 87, 99, 101]\n"
     ]
    }
   ],
   "source": [
    "def insertion_sort(alist):\n",
    "    for i in range(1, len(alist)):\n",
    "        temp = alist[i]\n",
    "        j = i - 1\n",
    "        while (j >= 0 and temp < alist[j]):\n",
    "            alist[j + 1] = alist[j]\n",
    "            j = j - 1\n",
    "        alist[j + 1] = temp\n",
    "alist = input('Masukkan data yang akan di sortir : ').split()\n",
    "alist = [int(x) for x in alist]\n",
    "insertion_sort(alist)\n",
    "print('Hasil Sortir Data : ', end='')\n",
    "print(alist)\n"
   ]
  },
  {
   "cell_type": "code",
   "execution_count": 3,
   "id": "b2f6f126",
   "metadata": {},
   "outputs": [
    {
     "name": "stdout",
     "output_type": "stream",
     "text": [
      "Masukkan data yang akan di sortir : 99 7 101 3 87 69 44 51 2\n",
      "=============================================\n",
      "Hasil Sortir Data : [2, 3, 7, 44, 51, 69, 87, 99, 101]\n"
     ]
    }
   ],
   "source": [
    "def quicksort(alist, start, end):\n",
    "    if end - start > 1:\n",
    "        p = partition(alist, start, end)\n",
    "        quicksort(alist, start, p)\n",
    "        quicksort(alist, p + 1, end)\n",
    "def partition(alist, start, end):\n",
    "    pivot = alist[start]\n",
    "    i = start + 1\n",
    "    j = end - 1\n",
    "    while True:\n",
    "        while (i <= j and alist[i] <= pivot):\n",
    "            i = i + 1\n",
    "        while (i <= j and alist[j] >= pivot):\n",
    "            j = j - 1\n",
    "        if i <= j:\n",
    "            alist[i], alist[j] = alist[j], alist[i]\n",
    "        else:\n",
    "            alist[start], alist[j] = alist[j], alist[start]\n",
    "            return j\n",
    "alist= input('Masukkan data yang akan di sortir : ').split()\n",
    "print(\"=\" * 45)\n",
    "alist = [int(x) for x in alist]\n",
    "quicksort(alist, 0, len(alist))\n",
    "print('Hasil Sortir Data : ', end='')\n",
    "print(alist)\n"
   ]
  },
  {
   "cell_type": "code",
   "execution_count": null,
   "id": "6a247ddd",
   "metadata": {},
   "outputs": [],
   "source": []
  }
 ],
 "metadata": {
  "kernelspec": {
   "display_name": "Python 3 (ipykernel)",
   "language": "python",
   "name": "python3"
  },
  "language_info": {
   "codemirror_mode": {
    "name": "ipython",
    "version": 3
   },
   "file_extension": ".py",
   "mimetype": "text/x-python",
   "name": "python",
   "nbconvert_exporter": "python",
   "pygments_lexer": "ipython3",
   "version": "3.9.12"
  }
 },
 "nbformat": 4,
 "nbformat_minor": 5
}
