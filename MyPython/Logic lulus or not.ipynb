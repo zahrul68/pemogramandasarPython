{
 "cells": [
  {
   "cell_type": "code",
   "execution_count": 6,
   "id": "92b7a55d",
   "metadata": {},
   "outputs": [
    {
     "name": "stdout",
     "output_type": "stream",
     "text": [
      "Masukkan Nama : Raihan\n",
      "Masukkan Jml Pertemuan : 15\n",
      "Masukkan Nilai Tugas  : 85\n",
      "Masukkan Nilai Mid    : 80\n",
      "Masukkan Ujian Akhir  : 90\n",
      "====================================\n",
      "Raihan\n",
      "Anda Lulus \n",
      "Nilai Akhir 86\n",
      "Anda Berhak Mendapat Piala\n"
     ]
    }
   ],
   "source": [
    "nama=input(\"Masukkan Nama : \")\n",
    "ab=float(input(\"Masukkan Jml Pertemuan : \"))\n",
    "tgs=float(input(\"Masukkan Nilai Tugas  : \"))\n",
    "mid=float(input(\"Masukkan Nilai Mid    : \"))\n",
    "uas=float(input(\"Masukkan Ujian Akhir  : \"))\n",
    "print(\"====================================\")\n",
    "nilai=((ab/16)*10)+ ((tgs/100)*20)+ ((mid/100)*30)+ ((uas/100)*40)\n",
    "if (nilai>= 70):\n",
    "    print(nama)\n",
    "    print(\"Anda Lulus \")\n",
    "    print(\"Nilai Akhir %0.f\" % nilai)\n",
    "    print(\"Anda Berhak Mendapat Piala\")\n",
    "else:\n",
    "    print(nama)\n",
    "    print(\"Anda Tidak Lulus \")\n",
    "    print(\"Nilai Akhir %0.f\" % nilai)\n",
    "    print(\"Anda Begok, Banyak banyak minum susu\")"
   ]
  },
  {
   "cell_type": "code",
   "execution_count": 13,
   "id": "7394593a",
   "metadata": {},
   "outputs": [
    {
     "ename": "SyntaxError",
     "evalue": "invalid syntax (299823238.py, line 1)",
     "output_type": "error",
     "traceback": [
      "\u001b[1;36m  Input \u001b[1;32mIn [13]\u001b[1;36m\u001b[0m\n\u001b[1;33m    1 and 1 not 0\u001b[0m\n\u001b[1;37m                ^\u001b[0m\n\u001b[1;31mSyntaxError\u001b[0m\u001b[1;31m:\u001b[0m invalid syntax\n"
     ]
    }
   ],
   "source": [
    "1 and 1 not 0"
   ]
  }
 ],
 "metadata": {
  "kernelspec": {
   "display_name": "Python 3 (ipykernel)",
   "language": "python",
   "name": "python3"
  },
  "language_info": {
   "codemirror_mode": {
    "name": "ipython",
    "version": 3
   },
   "file_extension": ".py",
   "mimetype": "text/x-python",
   "name": "python",
   "nbconvert_exporter": "python",
   "pygments_lexer": "ipython3",
   "version": "3.9.12"
  }
 },
 "nbformat": 4,
 "nbformat_minor": 5
}
