{
 "cells": [
  {
   "cell_type": "code",
   "execution_count": 6,
   "id": "15f1c864",
   "metadata": {},
   "outputs": [
    {
     "data": {
      "text/plain": [
       "True"
      ]
     },
     "execution_count": 6,
     "metadata": {},
     "output_type": "execute_result"
    }
   ],
   "source": [
    "a=7\n",
    "b=13\n",
    "c=6\n",
    "a < b and a < b"
   ]
  },
  {
   "cell_type": "code",
   "execution_count": 8,
   "id": "f06a0fc0",
   "metadata": {},
   "outputs": [
    {
     "name": "stdout",
     "output_type": "stream",
     "text": [
      "--------------------------------------------------\n"
     ]
    }
   ],
   "source": [
    "print(\"-\" * 50)"
   ]
  },
  {
   "cell_type": "code",
   "execution_count": 15,
   "id": "d1af0cb5",
   "metadata": {
    "scrolled": true
   },
   "outputs": [
    {
     "name": "stdout",
     "output_type": "stream",
     "text": [
      "Status Pelanggan [P & C] : P\n",
      "Jumlah Foto copy         : 100\n",
      "__________________________________________________\n",
      "Diskon = 3750.0\n",
      "Pembayaran =  21250.0\n"
     ]
    }
   ],
   "source": [
    "a=250\n",
    "status=input(\"Status Pelanggan [P & C] : \")\n",
    "jml=int(input(\"Jumlah Foto copy         : \"))\n",
    "print(\"_\" * 50)\n",
    "x=((a*jml)*0.15)\n",
    "cetak=a*jml- x\n",
    "print(\"Diskon =\", x)\n",
    "print(\"Pembayaran = \",cetak)"
   ]
  },
  {
   "cell_type": "code",
   "execution_count": 18,
   "id": "3be22854",
   "metadata": {},
   "outputs": [],
   "source": [
    "if (status ==\"P\" and jml >=100):\n",
    "    print\n",
    "else:\n",
    "    cetak=a*jml"
   ]
  }
 ],
 "metadata": {
  "kernelspec": {
   "display_name": "Python 3 (ipykernel)",
   "language": "python",
   "name": "python3"
  },
  "language_info": {
   "codemirror_mode": {
    "name": "ipython",
    "version": 3
   },
   "file_extension": ".py",
   "mimetype": "text/x-python",
   "name": "python",
   "nbconvert_exporter": "python",
   "pygments_lexer": "ipython3",
   "version": "3.9.12"
  }
 },
 "nbformat": 4,
 "nbformat_minor": 5
}
