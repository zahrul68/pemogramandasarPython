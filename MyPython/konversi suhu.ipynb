{
 "cells": [
  {
   "cell_type": "code",
   "execution_count": 4,
   "id": "c7f5b004",
   "metadata": {},
   "outputs": [
    {
     "name": "stdout",
     "output_type": "stream",
     "text": [
      "Masukkan Suhu Celcius = 10\n",
      "===============================\n",
      "Reamur 8.0\n",
      "Fahrenheit 50.0\n",
      "Kelvin 283.0\n",
      "====================\n",
      "Reamur Ke Celcius 12.5\n",
      "Fahrenheit Ke Celcius -26.444444444444443\n",
      "Kelvin Ke Celcius -263.0\n"
     ]
    }
   ],
   "source": [
    "x=float(input(\"Masukkan Suhu Celcius = \"))\n",
    "print(\"===============================\")\n",
    "xr=(4/5)*x\n",
    "fah=((9/5)*x)+32\n",
    "k=x+273\n",
    "print(\"Reamur\",xr)\n",
    "print(\"Fahrenheit\",fah)\n",
    "print(\"Kelvin\",k)\n",
    "print(\"====================\")\n",
    "xr=(5/4)*x\n",
    "fah=((5/9)*(x))-32\n",
    "k=x-273\n",
    "print(\"Reamur Ke Celcius\",xr)\n",
    "print(\"Fahrenheit Ke Celcius\",fah)\n",
    "print(\"Kelvin Ke Celcius\",k)\n"
   ]
  },
  {
   "cell_type": "code",
   "execution_count": 2,
   "id": "077c45e0",
   "metadata": {},
   "outputs": [
    {
     "data": {
      "text/plain": [
       "0.5555555555555556"
      ]
     },
     "execution_count": 2,
     "metadata": {},
     "output_type": "execute_result"
    }
   ],
   "source": [
    "5/9"
   ]
  },
  {
   "cell_type": "code",
   "execution_count": null,
   "id": "b221cdc7",
   "metadata": {},
   "outputs": [],
   "source": []
  }
 ],
 "metadata": {
  "kernelspec": {
   "display_name": "Python 3 (ipykernel)",
   "language": "python",
   "name": "python3"
  },
  "language_info": {
   "codemirror_mode": {
    "name": "ipython",
    "version": 3
   },
   "file_extension": ".py",
   "mimetype": "text/x-python",
   "name": "python",
   "nbconvert_exporter": "python",
   "pygments_lexer": "ipython3",
   "version": "3.9.12"
  }
 },
 "nbformat": 4,
 "nbformat_minor": 5
}
