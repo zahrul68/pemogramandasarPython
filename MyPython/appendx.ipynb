{
 "cells": [
  {
   "cell_type": "code",
   "execution_count": 5,
   "id": "c5e4931e",
   "metadata": {},
   "outputs": [
    {
     "name": "stdout",
     "output_type": "stream",
     "text": [
      "['Ford', 'Volvo', 'BMW', 'Honda']\n"
     ]
    }
   ],
   "source": [
    "cars = [\"Ford\", \"Volvo\", \"BMW\"]\n",
    "cars.append(\"Honda\")\n",
    "print (cars)"
   ]
  },
  {
   "cell_type": "code",
   "execution_count": 7,
   "id": "d3bb1dc4",
   "metadata": {},
   "outputs": [
    {
     "name": "stdout",
     "output_type": "stream",
     "text": [
      " Pb=int(input(\"Jumlah Penabungan  = Rp. \"))\n",
      "x=int(input(\"Masukkan Lama =\"))\n",
      "i=int(input(\"Besaran Suku Bunga =\"))\n",
      "lm=(x/365)\n",
      "Bg=(i/100)* lm\n",
      "jml_bg=Bg* Pb\n",
      "sa=Pb+jml_bg\n",
      "\n",
      "if lm == 1.0:\n",
      "    print(\" 1 Tahun\")\n",
      "    print(Bg)\n",
      "    print(jml_bg)\n",
      "    print(\"Saldo = Rp. \", sa)\n",
      "else:\n",
      "    print(lm) \n"
     ]
    }
   ],
   "source": [
    "x= \"\"\" Pb=int(input(\"Jumlah Penabungan  = Rp. \"))\n",
    "x=int(input(\"Masukkan Lama =\"))\n",
    "i=int(input(\"Besaran Suku Bunga =\"))\n",
    "lm=(x/365)\n",
    "Bg=(i/100)* lm\n",
    "jml_bg=Bg* Pb\n",
    "sa=Pb+jml_bg\n",
    "\n",
    "if lm == 1.0:\n",
    "    print(\" 1 Tahun\")\n",
    "    print(Bg)\n",
    "    print(jml_bg)\n",
    "    print(\"Saldo = Rp. \", sa)\n",
    "else:\n",
    "    print(lm) \"\"\"\n",
    "print(x)"
   ]
  },
  {
   "cell_type": "code",
   "execution_count": null,
   "id": "23c8e43a",
   "metadata": {},
   "outputs": [],
   "source": []
  }
 ],
 "metadata": {
  "kernelspec": {
   "display_name": "Python 3 (ipykernel)",
   "language": "python",
   "name": "python3"
  },
  "language_info": {
   "codemirror_mode": {
    "name": "ipython",
    "version": 3
   },
   "file_extension": ".py",
   "mimetype": "text/x-python",
   "name": "python",
   "nbconvert_exporter": "python",
   "pygments_lexer": "ipython3",
   "version": "3.9.12"
  }
 },
 "nbformat": 4,
 "nbformat_minor": 5
}
