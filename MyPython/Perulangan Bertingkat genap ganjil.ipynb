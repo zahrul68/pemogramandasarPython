{
 "cells": [
  {
   "cell_type": "code",
   "execution_count": 1,
   "id": "c679549e",
   "metadata": {},
   "outputs": [
    {
     "name": "stdout",
     "output_type": "stream",
     "text": [
      "Batas Bawah :1\n",
      "Batas Atas :12\n",
      "1\n",
      "2\n",
      "3\n",
      "4\n",
      "5\n",
      "6\n",
      "7\n",
      "8\n",
      "9\n",
      "10\n",
      "11\n",
      "12\n"
     ]
    }
   ],
   "source": [
    "bawah=int(input(\"Batas Bawah :\"))\n",
    "atas=int(input(\"Batas Atas :\"))\n",
    "for ulang in range (bawah,atas+1):\n",
    "    print(ulang)"
   ]
  },
  {
   "cell_type": "code",
   "execution_count": 11,
   "id": "1b7a99af",
   "metadata": {},
   "outputs": [
    {
     "name": "stdout",
     "output_type": "stream",
     "text": [
      "Batas Bawah :1\n",
      "Batas Atas :10\n",
      "1 2 3 4 5 6 7 8 9 10 11 12 13 14 15 16 17 18 19 20 21 22 23 24 25 Ke- : 1\n",
      "1 2 3 4 5 6 7 8 9 10 11 12 13 14 15 16 17 18 19 20 21 22 23 24 25 Ke- : 3\n",
      "1 2 3 4 5 6 7 8 9 10 11 12 13 14 15 16 17 18 19 20 21 22 23 24 25 Ke- : 5\n",
      "1 2 3 4 5 6 7 8 9 10 11 12 13 14 15 16 17 18 19 20 21 22 23 24 25 Ke- : 7\n",
      "1 2 3 4 5 6 7 8 9 10 11 12 13 14 15 16 17 18 19 20 21 22 23 24 25 Ke- : 9\n"
     ]
    }
   ],
   "source": [
    "bawah=int(input(\"Batas Bawah :\"))\n",
    "atas=int(input(\"Batas Atas :\"))\n",
    "for ulang in range (bawah,atas,2):\n",
    "    for x in range(1,25+1):\n",
    "        print(x, end =\" \")\n",
    "    print(\"Ke- :\", ulang)\n",
    "    "
   ]
  },
  {
   "cell_type": "code",
   "execution_count": 12,
   "id": "a47a5fa8",
   "metadata": {},
   "outputs": [
    {
     "name": "stdout",
     "output_type": "stream",
     "text": [
      "Batas Bawah :1\n",
      "Batas Atas :10\n",
      "1 2 3 4 5 6 7 8 9 10 11 12 13 14 15 16 17 18 19 20 Ke- : 2\n",
      "1 2 3 4 5 6 7 8 9 10 11 12 13 14 15 16 17 18 19 20 Ke- : 4\n",
      "1 2 3 4 5 6 7 8 9 10 11 12 13 14 15 16 17 18 19 20 Ke- : 6\n",
      "1 2 3 4 5 6 7 8 9 10 11 12 13 14 15 16 17 18 19 20 Ke- : 8\n"
     ]
    }
   ],
   "source": [
    "bawah=int(input(\"Batas Bawah :\"))\n",
    "atas=int(input(\"Batas Atas :\"))\n",
    "for ulang in range (bawah+1,atas,2):\n",
    "    for x in range(1,20+1):\n",
    "        print(x, end =\" \")\n",
    "    print(\"Ke- :\", ulang)"
   ]
  },
  {
   "cell_type": "code",
   "execution_count": 2,
   "id": "134f7b33",
   "metadata": {},
   "outputs": [
    {
     "name": "stdout",
     "output_type": "stream",
     "text": [
      "Batas Bawah :3\n",
      "Batas Atas :10\n",
      "Data Ganjil : 3\n",
      "Gabungan  Ganjil dan Jumlah  3   1\n",
      "Gabungan  Ganjil dan Jumlah  3   2\n",
      "Gabungan  Ganjil dan Jumlah  3   3\n",
      "Gabungan  Ganjil dan Jumlah  3   4\n",
      "Gabungan  Ganjil dan Jumlah  3   5\n",
      "Gabungan  Ganjil dan Jumlah  3   6\n",
      "Gabungan  Ganjil dan Jumlah  3   7\n",
      "Gabungan  Ganjil dan Jumlah  3   8\n",
      "Gabungan  Ganjil dan Jumlah  3   9\n",
      "Gabungan  Ganjil dan Jumlah  3   10\n",
      "Gabungan  Ganjil dan Jumlah  3   11\n",
      "Gabungan  Ganjil dan Jumlah  3   12\n",
      "Gabungan  Ganjil dan Jumlah  3   13\n",
      "Gabungan  Ganjil dan Jumlah  3   14\n",
      "Gabungan  Ganjil dan Jumlah  3   15\n",
      "Gabungan  Ganjil dan Jumlah  3   16\n",
      "Gabungan  Ganjil dan Jumlah  3   17\n",
      "Gabungan  Ganjil dan Jumlah  3   18\n",
      "Gabungan  Ganjil dan Jumlah  3   19\n",
      "Gabungan  Ganjil dan Jumlah  3   20\n",
      "Gabungan  Ganjil dan Jumlah  3   21\n",
      "Gabungan  Ganjil dan Jumlah  3   22\n",
      "Gabungan  Ganjil dan Jumlah  3   23\n",
      "Gabungan  Ganjil dan Jumlah  3   24\n",
      "Gabungan  Ganjil dan Jumlah  3   25\n",
      "Data Ganjil : 5\n",
      "Gabungan  Ganjil dan Jumlah  5   1\n",
      "Gabungan  Ganjil dan Jumlah  5   2\n",
      "Gabungan  Ganjil dan Jumlah  5   3\n",
      "Gabungan  Ganjil dan Jumlah  5   4\n",
      "Gabungan  Ganjil dan Jumlah  5   5\n",
      "Gabungan  Ganjil dan Jumlah  5   6\n",
      "Gabungan  Ganjil dan Jumlah  5   7\n",
      "Gabungan  Ganjil dan Jumlah  5   8\n",
      "Gabungan  Ganjil dan Jumlah  5   9\n",
      "Gabungan  Ganjil dan Jumlah  5   10\n",
      "Gabungan  Ganjil dan Jumlah  5   11\n",
      "Gabungan  Ganjil dan Jumlah  5   12\n",
      "Gabungan  Ganjil dan Jumlah  5   13\n",
      "Gabungan  Ganjil dan Jumlah  5   14\n",
      "Gabungan  Ganjil dan Jumlah  5   15\n",
      "Gabungan  Ganjil dan Jumlah  5   16\n",
      "Gabungan  Ganjil dan Jumlah  5   17\n",
      "Gabungan  Ganjil dan Jumlah  5   18\n",
      "Gabungan  Ganjil dan Jumlah  5   19\n",
      "Gabungan  Ganjil dan Jumlah  5   20\n",
      "Gabungan  Ganjil dan Jumlah  5   21\n",
      "Gabungan  Ganjil dan Jumlah  5   22\n",
      "Gabungan  Ganjil dan Jumlah  5   23\n",
      "Gabungan  Ganjil dan Jumlah  5   24\n",
      "Gabungan  Ganjil dan Jumlah  5   25\n",
      "Data Ganjil : 7\n",
      "Gabungan  Ganjil dan Jumlah  7   1\n",
      "Gabungan  Ganjil dan Jumlah  7   2\n",
      "Gabungan  Ganjil dan Jumlah  7   3\n",
      "Gabungan  Ganjil dan Jumlah  7   4\n",
      "Gabungan  Ganjil dan Jumlah  7   5\n",
      "Gabungan  Ganjil dan Jumlah  7   6\n",
      "Gabungan  Ganjil dan Jumlah  7   7\n",
      "Gabungan  Ganjil dan Jumlah  7   8\n",
      "Gabungan  Ganjil dan Jumlah  7   9\n",
      "Gabungan  Ganjil dan Jumlah  7   10\n",
      "Gabungan  Ganjil dan Jumlah  7   11\n",
      "Gabungan  Ganjil dan Jumlah  7   12\n",
      "Gabungan  Ganjil dan Jumlah  7   13\n",
      "Gabungan  Ganjil dan Jumlah  7   14\n",
      "Gabungan  Ganjil dan Jumlah  7   15\n",
      "Gabungan  Ganjil dan Jumlah  7   16\n",
      "Gabungan  Ganjil dan Jumlah  7   17\n",
      "Gabungan  Ganjil dan Jumlah  7   18\n",
      "Gabungan  Ganjil dan Jumlah  7   19\n",
      "Gabungan  Ganjil dan Jumlah  7   20\n",
      "Gabungan  Ganjil dan Jumlah  7   21\n",
      "Gabungan  Ganjil dan Jumlah  7   22\n",
      "Gabungan  Ganjil dan Jumlah  7   23\n",
      "Gabungan  Ganjil dan Jumlah  7   24\n",
      "Gabungan  Ganjil dan Jumlah  7   25\n",
      "Data Ganjil : 9\n",
      "Gabungan  Ganjil dan Jumlah  9   1\n",
      "Gabungan  Ganjil dan Jumlah  9   2\n",
      "Gabungan  Ganjil dan Jumlah  9   3\n",
      "Gabungan  Ganjil dan Jumlah  9   4\n",
      "Gabungan  Ganjil dan Jumlah  9   5\n",
      "Gabungan  Ganjil dan Jumlah  9   6\n",
      "Gabungan  Ganjil dan Jumlah  9   7\n",
      "Gabungan  Ganjil dan Jumlah  9   8\n",
      "Gabungan  Ganjil dan Jumlah  9   9\n",
      "Gabungan  Ganjil dan Jumlah  9   10\n",
      "Gabungan  Ganjil dan Jumlah  9   11\n",
      "Gabungan  Ganjil dan Jumlah  9   12\n",
      "Gabungan  Ganjil dan Jumlah  9   13\n",
      "Gabungan  Ganjil dan Jumlah  9   14\n",
      "Gabungan  Ganjil dan Jumlah  9   15\n",
      "Gabungan  Ganjil dan Jumlah  9   16\n",
      "Gabungan  Ganjil dan Jumlah  9   17\n",
      "Gabungan  Ganjil dan Jumlah  9   18\n",
      "Gabungan  Ganjil dan Jumlah  9   19\n",
      "Gabungan  Ganjil dan Jumlah  9   20\n",
      "Gabungan  Ganjil dan Jumlah  9   21\n",
      "Gabungan  Ganjil dan Jumlah  9   22\n",
      "Gabungan  Ganjil dan Jumlah  9   23\n",
      "Gabungan  Ganjil dan Jumlah  9   24\n",
      "Gabungan  Ganjil dan Jumlah  9   25\n"
     ]
    }
   ],
   "source": [
    "bawah=int(input(\"Batas Bawah :\"))\n",
    "atas=int(input(\"Batas Atas :\"))\n",
    "for ulang in range (bawah,atas,2):\n",
    "    print(\"Data Ganjil :\", ulang)\n",
    "    for x in range(1,25+1):\n",
    "        print (\"Gabungan  Ganjil dan Jumlah \",str(ulang), \" \",str(x))\n",
    "    \n",
    "    "
   ]
  },
  {
   "cell_type": "code",
   "execution_count": null,
   "id": "d59afd8e",
   "metadata": {},
   "outputs": [],
   "source": []
  },
  {
   "cell_type": "code",
   "execution_count": null,
   "id": "3a011317",
   "metadata": {},
   "outputs": [],
   "source": []
  }
 ],
 "metadata": {
  "kernelspec": {
   "display_name": "Python 3 (ipykernel)",
   "language": "python",
   "name": "python3"
  },
  "language_info": {
   "codemirror_mode": {
    "name": "ipython",
    "version": 3
   },
   "file_extension": ".py",
   "mimetype": "text/x-python",
   "name": "python",
   "nbconvert_exporter": "python",
   "pygments_lexer": "ipython3",
   "version": "3.9.12"
  }
 },
 "nbformat": 4,
 "nbformat_minor": 5
}
