{
 "cells": [
  {
   "cell_type": "code",
   "execution_count": 1,
   "id": "1d5b6233",
   "metadata": {},
   "outputs": [
    {
     "name": "stdout",
     "output_type": "stream",
     "text": [
      "Hai Selamat Pagi semua\n"
     ]
    }
   ],
   "source": [
    "print(\"Hai Selamat Pagi semua\")"
   ]
  },
  {
   "cell_type": "code",
   "execution_count": 9,
   "id": "2e910329",
   "metadata": {},
   "outputs": [
    {
     "name": "stdout",
     "output_type": "stream",
     "text": [
      "Masukkan Nama Anda ? Junaidi Surya\n",
      "Masukkan Nim Anda ? 22111001\n",
      "Masukkan Alamat Anda ? Jambi\n",
      "----------------------------------\n",
      "Nama Saya adalah =  Junaidi Surya\n",
      "Nim Saya adalah =  22111001\n",
      "Alamat Saya adalah =  Jambi\n"
     ]
    }
   ],
   "source": [
    "nama=input(\"Masukkan Nama Anda ? \")\n",
    "nim=input(\"Masukkan Nim Anda ? \")\n",
    "alamat=input(\"Masukkan Alamat Anda ? \")\n",
    "print(\"----------------------------------\")\n",
    "print (\"Nama Saya adalah = \", nama)\n",
    "print (\"Nim Saya adalah = \", nim)\n",
    "print (\"Alamat Saya adalah = \", alamat)"
   ]
  },
  {
   "cell_type": "code",
   "execution_count": 11,
   "id": "3d4ddad4",
   "metadata": {},
   "outputs": [
    {
     "name": "stdout",
     "output_type": "stream",
     "text": [
      "Data 1  dan  Data 2\n"
     ]
    }
   ],
   "source": [
    "a=\"Data 1\"\n",
    "b=\"Data 2\"\n",
    "print (a,\" dan \",b)"
   ]
  },
  {
   "cell_type": "code",
   "execution_count": 13,
   "id": "c423a97e",
   "metadata": {},
   "outputs": [
    {
     "name": "stdout",
     "output_type": "stream",
     "text": [
      "25\n"
     ]
    }
   ],
   "source": [
    "a=10\n",
    "b=15\n",
    "c=a+b\n",
    "print (c)"
   ]
  },
  {
   "cell_type": "code",
   "execution_count": 19,
   "id": "2cf1b735",
   "metadata": {},
   "outputs": [
    {
     "name": "stdout",
     "output_type": "stream",
     "text": [
      "Masukkan Data Ke-1 = 21\n",
      "Masukkan Data Ke-2 = 4\n",
      "Hasil Penjumlahan adalah =  25\n",
      "Hasil Pengurangan adalah =  17\n",
      "Hasil Perkalian adalah =  84\n",
      "Hasil Pembagian adalah =  5.25\n",
      "Hasil Pangkat adalah =  194481\n",
      "Hasil Modula adalah =  1\n"
     ]
    }
   ],
   "source": [
    "a=int(input(\"Masukkan Data Ke-1 = \"))\n",
    "b=int(input(\"Masukkan Data Ke-2 = \"))\n",
    "c=a+b\n",
    "c2=a-b\n",
    "c3=a*b\n",
    "c4=a/b\n",
    "c5=a**b\n",
    "c6=a%b\n",
    "print (\"Hasil Penjumlahan adalah = \",c)\n",
    "print (\"Hasil Pengurangan adalah = \",c2)\n",
    "print (\"Hasil Perkalian adalah = \",c3)\n",
    "print (\"Hasil Pembagian adalah = \",c4)\n",
    "print (\"Hasil Pangkat adalah = \",c5)\n",
    "print (\"Hasil Modula adalah = \",c6)"
   ]
  },
  {
   "cell_type": "code",
   "execution_count": null,
   "id": "153fb217",
   "metadata": {},
   "outputs": [],
   "source": []
  }
 ],
 "metadata": {
  "kernelspec": {
   "display_name": "Python 3 (ipykernel)",
   "language": "python",
   "name": "python3"
  },
  "language_info": {
   "codemirror_mode": {
    "name": "ipython",
    "version": 3
   },
   "file_extension": ".py",
   "mimetype": "text/x-python",
   "name": "python",
   "nbconvert_exporter": "python",
   "pygments_lexer": "ipython3",
   "version": "3.9.12"
  }
 },
 "nbformat": 4,
 "nbformat_minor": 5
}
