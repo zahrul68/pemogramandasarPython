{
 "cells": [
  {
   "cell_type": "code",
   "execution_count": 1,
   "id": "13ad06e7",
   "metadata": {},
   "outputs": [
    {
     "data": {
      "text/plain": [
       "0"
      ]
     },
     "execution_count": 1,
     "metadata": {},
     "output_type": "execute_result"
    }
   ],
   "source": [
    "2024 % 4"
   ]
  },
  {
   "cell_type": "code",
   "execution_count": 4,
   "id": "6704889e",
   "metadata": {},
   "outputs": [
    {
     "name": "stdout",
     "output_type": "stream",
     "text": [
      "Jumlah Penabungan  = Rp. 1000000\n",
      "Masukkan Lama =365\n",
      "Besaran Suku Bunga =50\n",
      " 1 Tahun\n",
      "0.5\n",
      "500000.0\n",
      "Saldo = Rp.  1500000.0\n"
     ]
    }
   ],
   "source": [
    "Pb=int(input(\"Jumlah Penabungan  = Rp. \"))\n",
    "x=int(input(\"Masukkan Lama =\"))\n",
    "i=int(input(\"Besaran Suku Bunga =\"))\n",
    "lm=(x/365)\n",
    "Bg=(i/100)* lm\n",
    "jml_bg=Bg* Pb\n",
    "sa=Pb+jml_bg\n",
    "\n",
    "if lm == 1.0:\n",
    "    print(\" 1 Tahun\")\n",
    "    print(Bg)\n",
    "    print(jml_bg)\n",
    "    print(\"Saldo = Rp. \", sa)\n",
    "else:\n",
    "    print(lm)"
   ]
  },
  {
   "cell_type": "code",
   "execution_count": null,
   "id": "b1419c6d",
   "metadata": {},
   "outputs": [],
   "source": []
  },
  {
   "cell_type": "code",
   "execution_count": null,
   "id": "08812c48",
   "metadata": {},
   "outputs": [],
   "source": []
  }
 ],
 "metadata": {
  "kernelspec": {
   "display_name": "Python 3 (ipykernel)",
   "language": "python",
   "name": "python3"
  },
  "language_info": {
   "codemirror_mode": {
    "name": "ipython",
    "version": 3
   },
   "file_extension": ".py",
   "mimetype": "text/x-python",
   "name": "python",
   "nbconvert_exporter": "python",
   "pygments_lexer": "ipython3",
   "version": "3.9.12"
  }
 },
 "nbformat": 4,
 "nbformat_minor": 5
}
