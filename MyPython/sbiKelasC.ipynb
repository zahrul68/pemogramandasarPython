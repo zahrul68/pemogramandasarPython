{
 "cells": [
  {
   "cell_type": "code",
   "execution_count": 22,
   "id": "b31385a7",
   "metadata": {},
   "outputs": [
    {
     "ename": "IndentationError",
     "evalue": "unexpected indent (1024865888.py, line 8)",
     "output_type": "error",
     "traceback": [
      "\u001b[1;36m  Input \u001b[1;32mIn [22]\u001b[1;36m\u001b[0m\n\u001b[1;33m    str(yy[-2:])%4\u001b[0m\n\u001b[1;37m    ^\u001b[0m\n\u001b[1;31mIndentationError\u001b[0m\u001b[1;31m:\u001b[0m unexpected indent\n"
     ]
    }
   ],
   "source": [
    "import calendar\n",
    "yy=(input(\"Masukkan Tahun = \"))\n",
    "mm=int(input(\"Masukkan Bulan = \"))\n",
    "print(\"============================\")\n",
    "print(calendar.month(yy,mm))\n",
    "print(\"============================\")\n",
    "\n",
    "print (yy)"
   ]
  },
  {
   "cell_type": "code",
   "execution_count": 21,
   "id": "4c0cb5f5",
   "metadata": {},
   "outputs": [
    {
     "data": {
      "text/plain": [
       "'RYA'"
      ]
     },
     "execution_count": 21,
     "metadata": {},
     "output_type": "execute_result"
    }
   ],
   "source": [
    "name=\"JUNAIDI SURYA\"\n",
    "name[-3:]\n",
    "#len(name)"
   ]
  },
  {
   "cell_type": "code",
   "execution_count": null,
   "id": "e32083af",
   "metadata": {},
   "outputs": [],
   "source": []
  },
  {
   "cell_type": "code",
   "execution_count": 3,
   "id": "e2947188",
   "metadata": {},
   "outputs": [
    {
     "data": {
      "text/plain": [
       "'UZ'"
      ]
     },
     "execution_count": 3,
     "metadata": {},
     "output_type": "execute_result"
    }
   ],
   "source": [
    "name=\"FAUZAN\"\n",
    "name[2:4]"
   ]
  },
  {
   "cell_type": "code",
   "execution_count": 4,
   "id": "6f01f1cb",
   "metadata": {},
   "outputs": [
    {
     "data": {
      "text/plain": [
       "'FA'"
      ]
     },
     "execution_count": 4,
     "metadata": {},
     "output_type": "execute_result"
    }
   ],
   "source": [
    "name=\"FAUZAN\"\n",
    "name[:2]"
   ]
  },
  {
   "cell_type": "code",
   "execution_count": 9,
   "id": "1bc42d45",
   "metadata": {},
   "outputs": [
    {
     "name": "stdout",
     "output_type": "stream",
     "text": [
      "Nomor BP Anda =  001\n",
      "Tahun Masuk =  22\n"
     ]
    }
   ],
   "source": [
    "nim=\"22311001\"\n",
    "if (nim[-3:])=='001' and nim[:2]=='22':\n",
    "    print(\"Nomor BP Anda = \",nim[-3:])\n",
    "    print(\"Tahun Masuk = \",nim[:2])\n",
    "else:\n",
    "    print(\"Tidak Terdaftar\")"
   ]
  },
  {
   "cell_type": "code",
   "execution_count": 15,
   "id": "0111544c",
   "metadata": {},
   "outputs": [
    {
     "name": "stdout",
     "output_type": "stream",
     "text": [
      "Masukkan Jumlah Simpanan : Rp.10000000\n",
      "Lama Simpan : Hari. 365\n",
      "Tingkat Suku Bunga : Persen 10\n",
      "1000000.0\n"
     ]
    }
   ],
   "source": [
    "sp=int(input(\"Masukkan Jumlah Simpanan : Rp.\"))\n",
    "jhr=int(input(\"Lama Simpan : Hari. \"))\n",
    "sbi=int(input(\"Tingkat Suku Bunga : Persen \"))\n",
    "lm=(jhr/365)\n",
    "bg=(sbi/100)*lm*sp\n",
    "print(bg)"
   ]
  },
  {
   "cell_type": "code",
   "execution_count": null,
   "id": "3bca223f",
   "metadata": {},
   "outputs": [
    {
     "name": "stdout",
     "output_type": "stream",
     "text": [
      "Uang =1000000\n",
      "1000000\n"
     ]
    }
   ],
   "source": [
    "for th in range (1,10+1):\n",
    "   # print(th)\n",
    "    ht=int(input(\"Uang =\"))\n",
    "    ang=ht/th\n",
    "    print(int(ang))"
   ]
  },
  {
   "cell_type": "code",
   "execution_count": 14,
   "id": "a44c9a18",
   "metadata": {},
   "outputs": [
    {
     "data": {
      "text/plain": [
       "1"
      ]
     },
     "execution_count": 14,
     "metadata": {},
     "output_type": "execute_result"
    }
   ],
   "source": [
    "25 % 4"
   ]
  }
 ],
 "metadata": {
  "kernelspec": {
   "display_name": "Python 3 (ipykernel)",
   "language": "python",
   "name": "python3"
  },
  "language_info": {
   "codemirror_mode": {
    "name": "ipython",
    "version": 3
   },
   "file_extension": ".py",
   "mimetype": "text/x-python",
   "name": "python",
   "nbconvert_exporter": "python",
   "pygments_lexer": "ipython3",
   "version": "3.9.12"
  }
 },
 "nbformat": 4,
 "nbformat_minor": 5
}
