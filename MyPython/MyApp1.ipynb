{
 "cells": [
  {
   "cell_type": "code",
   "execution_count": 1,
   "id": "5fd840ce",
   "metadata": {},
   "outputs": [
    {
     "name": "stdout",
     "output_type": "stream",
     "text": [
      "Hello World\n"
     ]
    }
   ],
   "source": [
    "print (\"Hello World\")"
   ]
  },
  {
   "cell_type": "code",
   "execution_count": 9,
   "id": "9475ea45",
   "metadata": {},
   "outputs": [
    {
     "name": "stdout",
     "output_type": "stream",
     "text": [
      "Nim Saya adalah ? = 22111001\n",
      "Nama Saya adalah ? = Junaidi Surya\n",
      "Alamat Saya adalah ? = Jambi\n",
      "================================\n"
     ]
    }
   ],
   "source": [
    "nim=\"22111001\"\n",
    "nama=\"Junaidi Surya\"\n",
    "alamat=\"Jambi\"\n",
    "print (\"Nim Saya adalah ? =\",nim)\n",
    "print (\"Nama Saya adalah ? =\",nama)\n",
    "print (\"Alamat Saya adalah ? =\",alamat)\n",
    "print(\"================================\")"
   ]
  },
  {
   "cell_type": "code",
   "execution_count": 10,
   "id": "929dd7fb",
   "metadata": {},
   "outputs": [
    {
     "name": "stdout",
     "output_type": "stream",
     "text": [
      "Masukkan Nim Anda ? = 11\n",
      "Masukkan Nama Anda ? = dsfsdf\n",
      "Masukkan Alamat Anda ? = dfd\n",
      "================================\n",
      "Nim Saya adalah ? = 11\n",
      "Nama Saya adalah ? = dsfsdf\n",
      "Alamat Saya adalah ? = dfd\n"
     ]
    }
   ],
   "source": [
    "nim=input(\"Masukkan Nim Anda ? = \")\n",
    "nama=input(\"Masukkan Nama Anda ? = \")\n",
    "alamat=input(\"Masukkan Alamat Anda ? = \")\n",
    "print(\"================================\")\n",
    "print (\"Nim Saya adalah ? =\",nim)\n",
    "print (\"Nama Saya adalah ? =\",nama)\n",
    "print (\"Alamat Saya adalah ? =\",alamat)\n"
   ]
  },
  {
   "cell_type": "code",
   "execution_count": 15,
   "id": "3a0b40c4",
   "metadata": {},
   "outputs": [
    {
     "name": "stdout",
     "output_type": "stream",
     "text": [
      "Masukkan Data Ke 1 = 21\n",
      "Masukkan Data Ke 2 = 4\n",
      "===============================\n",
      "Hasil Penjumlahan = 25\n",
      "Hasil Pengurangan = 17\n",
      "Hasil Perkalian = 84\n",
      "Hasil Pembagian = 5.25\n",
      "Hasil Pangkat = 194481\n",
      "Hasil Mod = 1\n"
     ]
    }
   ],
   "source": [
    "a=int(input(\"Masukkan Data Ke 1 = \"))\n",
    "b=int(input(\"Masukkan Data Ke 2 = \"))\n",
    "print(\"===============================\")\n",
    "hasil=a+b\n",
    "hasil2=a-b\n",
    "hasil3=a*b\n",
    "hasil4=a/b\n",
    "hasil5=a**b\n",
    "hasil6=a%b\n",
    "print(\"Hasil Penjumlahan =\",hasil)\n",
    "print(\"Hasil Pengurangan =\",hasil2)\n",
    "print(\"Hasil Perkalian =\",hasil3)\n",
    "print(\"Hasil Pembagian =\",hasil4)\n",
    "print(\"Hasil Pangkat =\",hasil5)\n",
    "print(\"Hasil Mod =\",hasil6)"
   ]
  },
  {
   "cell_type": "code",
   "execution_count": null,
   "id": "3c621dce",
   "metadata": {},
   "outputs": [],
   "source": []
  }
 ],
 "metadata": {
  "kernelspec": {
   "display_name": "Python 3 (ipykernel)",
   "language": "python",
   "name": "python3"
  },
  "language_info": {
   "codemirror_mode": {
    "name": "ipython",
    "version": 3
   },
   "file_extension": ".py",
   "mimetype": "text/x-python",
   "name": "python",
   "nbconvert_exporter": "python",
   "pygments_lexer": "ipython3",
   "version": "3.9.12"
  }
 },
 "nbformat": 4,
 "nbformat_minor": 5
}
