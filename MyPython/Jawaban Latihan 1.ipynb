{
 "cells": [
  {
   "cell_type": "code",
   "execution_count": 4,
   "id": "0eb00648",
   "metadata": {},
   "outputs": [
    {
     "name": "stdout",
     "output_type": "stream",
     "text": [
      "Status Konsumen [P/C/U]:C\n",
      "Jumlah Foto Copy       :100\n",
      "Harga Foto Copy        :Rp. 200\n",
      "________________________________________\n",
      "Sebelum Diskon         :Rp. 20000\n",
      "Diskon                 :Rp. 4000.0  - \n",
      "________________________________________\n",
      "Pembayaran             :Rp. 16000.0\n"
     ]
    }
   ],
   "source": [
    "status=input(\"Status Konsumen [P/C/U]:\")\n",
    "jml=int(input(\"Jumlah Foto Copy       :\"))\n",
    "x=int(input(\"Harga Foto Copy        :Rp. \"))\n",
    "print(\"_\"* 40)\n",
    "\n",
    "i=(x * jml)\n",
    "\n",
    "if (status == \"P\" and jml >= 100):\n",
    "   \n",
    "    dis=i * 0.15\n",
    "    ctk=i-dis\n",
    "    print(\"Sebelum Diskon         :Rp.\",i)\n",
    "    print(\"Diskon                 :Rp.\",dis, \" - \")\n",
    "    print(\"_\"* 40)\n",
    "    print(\"Pembayaran             :Rp.\",ctk)\n",
    "\n",
    "elif (status == \"C\" and jml >= 100):\n",
    "    dis2=i * 0.2\n",
    "    ctk2=i-dis2\n",
    "    print(\"Sebelum Diskon         :Rp.\",i)\n",
    "    print(\"Diskon                 :Rp.\",dis2, \" - \")\n",
    "    print(\"_\"* 40)\n",
    "    print(\"Pembayaran             :Rp.\",ctk2)\n",
    "\n",
    "else:\n",
    "    print(\"Pembayaran :Rp.\",i)\n"
   ]
  },
  {
   "cell_type": "code",
   "execution_count": 11,
   "id": "f43e1231",
   "metadata": {},
   "outputs": [
    {
     "name": "stdout",
     "output_type": "stream",
     "text": [
      "Kondisi pernyataan Salah\n"
     ]
    }
   ],
   "source": [
    "a=7\n",
    "b=13\n",
    "c=9\n",
    "if a<b and a>c :\n",
    "    print(\"Kondisi pernyataan Benar\")\n",
    "else:\n",
    "    print(\"Kondisi pernyataan Salah\")"
   ]
  },
  {
   "cell_type": "code",
   "execution_count": null,
   "id": "7e72345d",
   "metadata": {},
   "outputs": [],
   "source": []
  }
 ],
 "metadata": {
  "kernelspec": {
   "display_name": "Python 3 (ipykernel)",
   "language": "python",
   "name": "python3"
  },
  "language_info": {
   "codemirror_mode": {
    "name": "ipython",
    "version": 3
   },
   "file_extension": ".py",
   "mimetype": "text/x-python",
   "name": "python",
   "nbconvert_exporter": "python",
   "pygments_lexer": "ipython3",
   "version": "3.9.12"
  }
 },
 "nbformat": 4,
 "nbformat_minor": 5
}
