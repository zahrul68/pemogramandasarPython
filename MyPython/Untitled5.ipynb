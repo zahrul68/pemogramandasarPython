{
 "cells": [
  {
   "cell_type": "code",
   "execution_count": 4,
   "id": "4c92157e",
   "metadata": {},
   "outputs": [
    {
     "name": "stdout",
     "output_type": "stream",
     "text": [
      "Pernyataan Kondisi Benar\n"
     ]
    }
   ],
   "source": [
    "data=\"\"\" Pada dasarnya percabangan terdiri dari 2 pernyataan, jika dan jika tidak atau bila dalam bahasa inggrisnya adalah IF dan ELSE. Percabangan dalam dunia pemrograman adalah proses penentuan keputusan atau dalam bahasa inggrisnya biasa disebut sebagai conditional statement. Percabangan akan mampu membuat program berpikir dan menentukan tindakan sesuai dengan logika/kondisi yang kita berikan. Konsepnya sederhana, jika kita menginstruksikan komputer untuk melakukan suatu aksi tertentu (X), hanya jika suatu kondisi Y terpenuhi. Atau, kita memerintahkan komputer untuk melakukan aksi tertentu (A) jika suatu kondisi terpenuhi. Dalam bahasa pemrograman Python, syntax atau statement yang digunakan untuk melakukan percabangan meliputi:\"\"\"\n",
    "a=7\n",
    "b=13\n",
    "c=9\n",
    "if ab or b>c :\n",
    "    print (\"Pernyataan Kondisi Benar\")\n",
    "    print(data)\n",
    "else:\n",
    "    print (\"Pernyataan Kondisi Salah\")"
   ]
  }
 ],
 "metadata": {
  "kernelspec": {
   "display_name": "Python 3 (ipykernel)",
   "language": "python",
   "name": "python3"
  },
  "language_info": {
   "codemirror_mode": {
    "name": "ipython",
    "version": 3
   },
   "file_extension": ".py",
   "mimetype": "text/x-python",
   "name": "python",
   "nbconvert_exporter": "python",
   "pygments_lexer": "ipython3",
   "version": "3.9.12"
  }
 },
 "nbformat": 4,
 "nbformat_minor": 5
}
