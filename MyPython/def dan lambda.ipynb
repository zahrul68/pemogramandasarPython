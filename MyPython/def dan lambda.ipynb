{
 "cells": [
  {
   "cell_type": "code",
   "execution_count": 1,
   "id": "25ded5d6",
   "metadata": {},
   "outputs": [],
   "source": [
    "def safa():\n",
    "    print(\"Hore saya bisa\")"
   ]
  },
  {
   "cell_type": "code",
   "execution_count": 2,
   "id": "ae638533",
   "metadata": {},
   "outputs": [],
   "source": [
    "def hasil():\n",
    "    print(\"Pemrogaman Python\")\n",
    "    "
   ]
  },
  {
   "cell_type": "code",
   "execution_count": 3,
   "id": "2de1edb5",
   "metadata": {},
   "outputs": [
    {
     "name": "stdout",
     "output_type": "stream",
     "text": [
      "Hore saya bisa\n",
      "Pemrogaman Python\n"
     ]
    }
   ],
   "source": [
    "safa()\n",
    "hasil()"
   ]
  },
  {
   "cell_type": "code",
   "execution_count": 4,
   "id": "a566b020",
   "metadata": {},
   "outputs": [],
   "source": [
    "def hitung(x):\n",
    "    return x+6"
   ]
  },
  {
   "cell_type": "code",
   "execution_count": 5,
   "id": "7bff09f6",
   "metadata": {},
   "outputs": [
    {
     "name": "stdout",
     "output_type": "stream",
     "text": [
      "10\n"
     ]
    }
   ],
   "source": [
    "a=hitung(4)\n",
    "print(a)"
   ]
  },
  {
   "cell_type": "code",
   "execution_count": 6,
   "id": "a57328d1",
   "metadata": {},
   "outputs": [],
   "source": [
    "def tambah(x):\n",
    "    return x+x\n",
    "def kurang(x):\n",
    "    return x-x\n",
    "def kali(x):\n",
    "    return x*x\n",
    "def bagi(x):\n",
    "    return x/x"
   ]
  },
  {
   "cell_type": "code",
   "execution_count": 7,
   "id": "cda74e54",
   "metadata": {},
   "outputs": [
    {
     "name": "stdout",
     "output_type": "stream",
     "text": [
      "100\n"
     ]
    }
   ],
   "source": [
    "a=kali(10)\n",
    "print(a)"
   ]
  },
  {
   "cell_type": "code",
   "execution_count": 8,
   "id": "02a4a89b",
   "metadata": {},
   "outputs": [],
   "source": [
    "def dua(x,y):\n",
    "    return x*y"
   ]
  },
  {
   "cell_type": "code",
   "execution_count": 9,
   "id": "892794af",
   "metadata": {},
   "outputs": [
    {
     "name": "stdout",
     "output_type": "stream",
     "text": [
      "30\n",
      "110\n",
      "3300\n"
     ]
    }
   ],
   "source": [
    "i=dua(5,6)\n",
    "j=dua(10,11)\n",
    "print(i)\n",
    "print(j)\n",
    "print(i*j)"
   ]
  },
  {
   "cell_type": "code",
   "execution_count": 10,
   "id": "494aa335",
   "metadata": {},
   "outputs": [],
   "source": [
    "def tambah(x,y):\n",
    "    return x+y\n",
    "def kurang(x,y):\n",
    "    return x-y\n",
    "def kali(x,y):\n",
    "    return x*y\n",
    "def bagi(x,y):\n",
    "    return x/y"
   ]
  },
  {
   "cell_type": "code",
   "execution_count": 11,
   "id": "c721a23f",
   "metadata": {},
   "outputs": [
    {
     "name": "stdout",
     "output_type": "stream",
     "text": [
      "11\n",
      "110\n",
      "1210\n"
     ]
    }
   ],
   "source": [
    "i1=tambah(5,6)\n",
    "jk=kali(10,11)\n",
    "print(i1)\n",
    "print(jk)\n",
    "print(i1*jk)"
   ]
  },
  {
   "cell_type": "code",
   "execution_count": 12,
   "id": "77927123",
   "metadata": {},
   "outputs": [
    {
     "name": "stdout",
     "output_type": "stream",
     "text": [
      "Volume Balok adalah 216\n"
     ]
    }
   ],
   "source": [
    "def balok(p,l,t):\n",
    "    return p*l*t\n",
    "v=balok(12,6,3)\n",
    "print(\"Volume Balok adalah\",v)"
   ]
  },
  {
   "cell_type": "code",
   "execution_count": 13,
   "id": "443a0cad",
   "metadata": {},
   "outputs": [
    {
     "name": "stdout",
     "output_type": "stream",
     "text": [
      "Volume Balok adalah 216\n"
     ]
    }
   ],
   "source": [
    "lm=lambda p,l,t : p*l*t\n",
    "print(\"Volume Balok adalah\",lm(12,6,3))"
   ]
  },
  {
   "cell_type": "code",
   "execution_count": 14,
   "id": "19f48053",
   "metadata": {},
   "outputs": [],
   "source": [
    "def kerucut(r,t):\n",
    "    xpi=22/7\n",
    "    return ((1/3)*xpi)*r**2*t    "
   ]
  },
  {
   "cell_type": "code",
   "execution_count": 15,
   "id": "ddfd4909",
   "metadata": {},
   "outputs": [
    {
     "name": "stdout",
     "output_type": "stream",
     "text": [
      "25457.14285714285\n"
     ]
    }
   ],
   "source": [
    "vl=kerucut(30,27)\n",
    "print(vl)"
   ]
  },
  {
   "cell_type": "code",
   "execution_count": 16,
   "id": "cceeb0c3",
   "metadata": {},
   "outputs": [
    {
     "name": "stdout",
     "output_type": "stream",
     "text": [
      "25457.14285714285\n"
     ]
    }
   ],
   "source": [
    "vk=lambda r,t : ((1/3)*xpi)*r**2*t \n",
    "xpi=22/7\n",
    "print(vk(30,27))"
   ]
  },
  {
   "cell_type": "code",
   "execution_count": null,
   "id": "4f036c05",
   "metadata": {},
   "outputs": [],
   "source": []
  }
 ],
 "metadata": {
  "kernelspec": {
   "display_name": "Python 3 (ipykernel)",
   "language": "python",
   "name": "python3"
  },
  "language_info": {
   "codemirror_mode": {
    "name": "ipython",
    "version": 3
   },
   "file_extension": ".py",
   "mimetype": "text/x-python",
   "name": "python",
   "nbconvert_exporter": "python",
   "pygments_lexer": "ipython3",
   "version": "3.9.12"
  }
 },
 "nbformat": 4,
 "nbformat_minor": 5
}
