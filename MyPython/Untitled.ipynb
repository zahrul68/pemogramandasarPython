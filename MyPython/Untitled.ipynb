{
 "cells": [
  {
   "cell_type": "code",
   "execution_count": 15,
   "id": "965e1f3c",
   "metadata": {},
   "outputs": [
    {
     "name": "stdout",
     "output_type": "stream",
     "text": [
      "Program Bilangan Bulat 1 Hingga x = ?\n",
      "Masukkan Bilangan bulat x =5\n",
      "1\n",
      "2\n",
      "3\n",
      "4\n",
      "5\n"
     ]
    }
   ],
   "source": [
    "print (\"Program Bilangan Bulat 1 Hingga x = ?\")\n",
    "i=1\n",
    "x=int(input(\"Masukkan Bilangan bulat x =\"))\n",
    "while i <= x:\n",
    "    print(i)\n",
    "    i=i+1;\n",
    "  "
   ]
  },
  {
   "cell_type": "code",
   "execution_count": 13,
   "id": "8233f706",
   "metadata": {},
   "outputs": [
    {
     "name": "stdout",
     "output_type": "stream",
     "text": [
      "##  Program Python Persegi Bintang  ##\n",
      "======================================\n",
      "\n",
      "Input besar persegi: 6\n",
      "\n",
      " * * * * * *\n",
      " * * * * * *\n",
      " * * * * * *\n",
      " * * * * * *\n",
      " * * * * * *\n",
      " * * * * * *\n"
     ]
    }
   ],
   "source": [
    "print('##  Program Python Persegi Bintang  ##')\n",
    "print('======================================')\n",
    "print()\n",
    " \n",
    "besar_persegi = int(input('Input besar persegi: '))\n",
    "print()\n",
    " \n",
    "for i in range(besar_persegi):\n",
    "  for j in range(besar_persegi):\n",
    "    print(' *',end='')\n",
    "  print()"
   ]
  },
  {
   "cell_type": "code",
   "execution_count": 12,
   "id": "cbbaf3fc",
   "metadata": {},
   "outputs": [
    {
     "name": "stdout",
     "output_type": "stream",
     "text": [
      "['Melati', 'Angsa', 'Buaya', ['Bunga', 'Unggas', 'Lelaki']]\n"
     ]
    }
   ],
   "source": [
    "Teman=[\"Melati\",\"Angsa\",\"Buaya\"]\n",
    "x=[\"Bunga\",\"Unggas\",\"Lelaki\"]\n",
    "Teman.append(x)\n",
    "print(Teman)"
   ]
  },
  {
   "cell_type": "code",
   "execution_count": null,
   "id": "c9084daa",
   "metadata": {},
   "outputs": [],
   "source": []
  }
 ],
 "metadata": {
  "kernelspec": {
   "display_name": "Python 3 (ipykernel)",
   "language": "python",
   "name": "python3"
  },
  "language_info": {
   "codemirror_mode": {
    "name": "ipython",
    "version": 3
   },
   "file_extension": ".py",
   "mimetype": "text/x-python",
   "name": "python",
   "nbconvert_exporter": "python",
   "pygments_lexer": "ipython3",
   "version": "3.9.12"
  }
 },
 "nbformat": 4,
 "nbformat_minor": 5
}
