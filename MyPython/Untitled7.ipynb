{
 "cells": [
  {
   "cell_type": "code",
   "execution_count": 1,
   "id": "6688d25e",
   "metadata": {},
   "outputs": [
    {
     "name": "stdout",
     "output_type": "stream",
     "text": [
      "Volume Balok =  144\n"
     ]
    }
   ],
   "source": [
    "Blk=lambda p,l,t : p*l*t\n",
    "print(\"Volume Balok = \",Blk(8,6,3))"
   ]
  },
  {
   "cell_type": "code",
   "execution_count": 2,
   "id": "9894ad59",
   "metadata": {},
   "outputs": [
    {
     "name": "stdout",
     "output_type": "stream",
     "text": [
      "Volume Balok =  144\n"
     ]
    }
   ],
   "source": [
    "def Balok(p,l,t):\n",
    "    return p*l*t\n",
    "a=Balok(8,6,3)\n",
    "print(\"Volume Balok = \",a)"
   ]
  },
  {
   "cell_type": "code",
   "execution_count": null,
   "id": "5b311341",
   "metadata": {},
   "outputs": [],
   "source": []
  }
 ],
 "metadata": {
  "kernelspec": {
   "display_name": "Python 3 (ipykernel)",
   "language": "python",
   "name": "python3"
  },
  "language_info": {
   "codemirror_mode": {
    "name": "ipython",
    "version": 3
   },
   "file_extension": ".py",
   "mimetype": "text/x-python",
   "name": "python",
   "nbconvert_exporter": "python",
   "pygments_lexer": "ipython3",
   "version": "3.9.12"
  }
 },
 "nbformat": 4,
 "nbformat_minor": 5
}
