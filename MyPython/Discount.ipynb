{
 "cells": [
  {
   "cell_type": "code",
   "execution_count": null,
   "id": "750767c0",
   "metadata": {},
   "outputs": [],
   "source": [
    "hb=int(input(\"Harga Barang = Rp.\"))\n",
    "d1=hb*0.7\n",
    "pb=hb-d1\n",
    "xpb=pb-((pb)*0.3)\n",
    "d2=pb*0.3\n",
    "print(\"Harga Setelah Discount Ke 1 = Rp.\",pb)\n",
    "print(\"Harga Setelah Discount Ke 2 = Rp.\",xpb)\n",
    "print(\"Discount Ke 1 = Rp.\",d1)\n",
    "print(\"Discount Ke 1 = Rp.\",d2)"
   ]
  },
  {
   "cell_type": "code",
   "execution_count": null,
   "id": "dd7629ff",
   "metadata": {},
   "outputs": [],
   "source": [
    "awal=int(input(\"masukkan data awal\"))\n",
    "akhir=int(input(\"masukkan data akhir\"))\n",
    "for n in range(10)\n",
    "    print(n)"
   ]
  },
  {
   "cell_type": "code",
   "execution_count": null,
   "id": "ff469d75",
   "metadata": {},
   "outputs": [],
   "source": []
  },
  {
   "cell_type": "code",
   "execution_count": null,
   "id": "bdc262f1",
   "metadata": {},
   "outputs": [],
   "source": []
  }
 ],
 "metadata": {
  "kernelspec": {
   "display_name": "Python 3 (ipykernel)",
   "language": "python",
   "name": "python3"
  },
  "language_info": {
   "codemirror_mode": {
    "name": "ipython",
    "version": 3
   },
   "file_extension": ".py",
   "mimetype": "text/x-python",
   "name": "python",
   "nbconvert_exporter": "python",
   "pygments_lexer": "ipython3",
   "version": "3.9.12"
  }
 },
 "nbformat": 4,
 "nbformat_minor": 5
}
