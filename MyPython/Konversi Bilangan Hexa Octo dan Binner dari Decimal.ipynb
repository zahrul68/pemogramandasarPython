{
 "cells": [
  {
   "cell_type": "code",
   "execution_count": 2,
   "id": "69ed895e",
   "metadata": {},
   "outputs": [
    {
     "name": "stdout",
     "output_type": "stream",
     "text": [
      "Masukkan bilangan Angka:255\n",
      "Binner     Octal      Hexadecimal\n",
      "255        255        255\n",
      "2------ 1  8------ 7  16------ 15 = F\n",
      "\n",
      "127        31         F\n",
      "2------ 1  8------ 7\n",
      "\n",
      "63         3\n",
      "2------ 1\n",
      "\n",
      "31\n",
      "2------ 1\n",
      "\n",
      "15\n",
      "2------ 1\n",
      "\n",
      "7\n",
      "2------ 1\n",
      "\n",
      "3\n",
      "2------ 1\n",
      "\n",
      "1\n",
      "\n",
      "==============================\n",
      "Decimal :  255\n",
      "Binner  :  11111111\n",
      "Octal   :  377\n",
      "Hexa    :  FF\n"
     ]
    }
   ],
   "source": [
    "from tabulate import tabulate\n",
    "import itertools as it\n",
    "\n",
    "def genConverter(angka, pembilang):\n",
    "    result = []\n",
    "    hasilAngka = \"\"\n",
    "    loop = True\n",
    "    while loop:\n",
    "        if angka >= pembilang:\n",
    "            result.append(angka)\n",
    "            sisa = angka % pembilang\n",
    "            angka = angka // pembilang\n",
    "            if sisa > 9:\n",
    "                huruf = libChar(sisa)\n",
    "                hasilAngka += huruf\n",
    "                sisa = \"{0} = {1}\".format(sisa, huruf)\n",
    "            else:\n",
    "                hasilAngka += str(sisa)\n",
    "            divid = \"{0}------ {1}\".format(pembilang, sisa)\n",
    "            result.append(divid)\n",
    "        else:\n",
    "            if angka > 9:\n",
    "                angka = libChar(angka)\n",
    "            hasilAngka += str(angka)\n",
    "            result.append(angka)\n",
    "            loop = False\n",
    "            break\n",
    "        result.append(\"\")\n",
    "    hasilAngka = \"\".join(reversed(hasilAngka)) #reversed\n",
    "    return (result, hasilAngka)\n",
    "\n",
    "def libChar(angka):\n",
    "    if angka == 10:\n",
    "        return \"A\"\n",
    "    elif angka == 11:\n",
    "        return \"B\"\n",
    "    elif angka == 12:\n",
    "        return \"C\"\n",
    "    elif angka == 13:\n",
    "        return \"D\"\n",
    "    elif angka == 14:\n",
    "        return \"E\"\n",
    "    elif angka == 15:\n",
    "        return \"F\"\n",
    "    elif angka == 16:\n",
    "        return \"G\"\n",
    "    \n",
    "angka = int(input(\"Masukkan bilangan Angka:\"))\n",
    "biner, hasilBiner = genConverter(angka, 2)\n",
    "octal, hasilOctal = genConverter(angka, 8)\n",
    "hexa, hasilHexa = genConverter(angka, 16)\n",
    "\n",
    "combine = list(it.zip_longest(biner, octal, hexa))\n",
    "header = (\"Binner\", \"Octal\", \"Hexadecimal\")\n",
    "\n",
    "print(tabulate(combine, header, tablefmt=\"plain\"))\n",
    "print(\"\")\n",
    "print(\"=\"* 30)\n",
    "print(\"Decimal : \", angka)\n",
    "print(\"Binner  : \", hasilBiner)\n",
    "print(\"Octal   : \", hasilOctal)\n",
    "print(\"Hexa    : \", hasilHexa)"
   ]
  },
  {
   "cell_type": "code",
   "execution_count": 3,
   "id": "71797fbf",
   "metadata": {},
   "outputs": [
    {
     "data": {
      "text/plain": [
       "9"
      ]
     },
     "execution_count": 3,
     "metadata": {},
     "output_type": "execute_result"
    }
   ],
   "source": [
    "34 % 25"
   ]
  },
  {
   "cell_type": "code",
   "execution_count": null,
   "id": "8a740687",
   "metadata": {},
   "outputs": [],
   "source": []
  }
 ],
 "metadata": {
  "kernelspec": {
   "display_name": "Python 3 (ipykernel)",
   "language": "python",
   "name": "python3"
  },
  "language_info": {
   "codemirror_mode": {
    "name": "ipython",
    "version": 3
   },
   "file_extension": ".py",
   "mimetype": "text/x-python",
   "name": "python",
   "nbconvert_exporter": "python",
   "pygments_lexer": "ipython3",
   "version": "3.9.12"
  }
 },
 "nbformat": 4,
 "nbformat_minor": 5
}
