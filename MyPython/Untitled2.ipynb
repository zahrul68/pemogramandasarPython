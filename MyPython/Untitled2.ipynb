{
 "cells": [
  {
   "cell_type": "code",
   "execution_count": 5,
   "id": "8361c8d7",
   "metadata": {},
   "outputs": [
    {
     "name": "stdout",
     "output_type": "stream",
     "text": [
      "Masukkan Nama :Junaidi Surya\n",
      "Jumlah Pertemuan   :16\n",
      "Nilai Tugas       :90\n",
      "Nilai Mid         :90\n",
      "Nilai Ujian Akhir :90\n",
      "==========================\n",
      "Selamat Anda lulus - 91.0\n",
      "Anda Berhak Mendapat Piala\n"
     ]
    }
   ],
   "source": [
    "nama=input(\"Masukkan Nama :\")\n",
    "ab=float(input(\"Jumlah Pertemuan   :\"))\n",
    "tgs=float(input(\"Nilai Tugas       :\"))\n",
    "mid=float(input(\"Nilai Mid         :\"))\n",
    "uas=float(input(\"Nilai Ujian Akhir :\"))\n",
    "na=((ab/16)*10)+((tgs/100)*20)+((mid/100)*30)+((uas/100)*40)\n",
    "if (na>=70):\n",
    "    print(\"==========================\")\n",
    "    print(\"Selamat Anda lulus\",\"-\",na)\n",
    "    print(\"Anda Berhak Mendapat Piala\")\n",
    "else:\n",
    "    print(\"==========================\")\n",
    "    print(\"Anda Tidak lulus\",\"-\",na)\n",
    "    print(\"Banyak2 Belajar dan Minum Susu\")\n"
   ]
  },
  {
   "cell_type": "code",
   "execution_count": null,
   "id": "76fffcb5",
   "metadata": {},
   "outputs": [],
   "source": []
  }
 ],
 "metadata": {
  "kernelspec": {
   "display_name": "Python 3 (ipykernel)",
   "language": "python",
   "name": "python3"
  },
  "language_info": {
   "codemirror_mode": {
    "name": "ipython",
    "version": 3
   },
   "file_extension": ".py",
   "mimetype": "text/x-python",
   "name": "python",
   "nbconvert_exporter": "python",
   "pygments_lexer": "ipython3",
   "version": "3.9.12"
  }
 },
 "nbformat": 4,
 "nbformat_minor": 5
}
