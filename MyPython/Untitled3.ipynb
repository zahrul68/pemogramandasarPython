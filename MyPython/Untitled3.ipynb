{
 "cells": [
  {
   "cell_type": "code",
   "execution_count": 1,
   "id": "2e07c936",
   "metadata": {},
   "outputs": [],
   "source": [
    "def Sp(x,y,i):\n",
    "    return x*y*i"
   ]
  },
  {
   "cell_type": "code",
   "execution_count": 2,
   "id": "8f8177c9",
   "metadata": {},
   "outputs": [
    {
     "name": "stdout",
     "output_type": "stream",
     "text": [
      "Apa hasilnya= 60\n"
     ]
    }
   ],
   "source": [
    "a=Sp(3,4,5)\n",
    "print(\"Apa hasilnya=\",a)"
   ]
  },
  {
   "cell_type": "code",
   "execution_count": 3,
   "id": "58ee51ae",
   "metadata": {},
   "outputs": [
    {
     "ename": "SyntaxError",
     "evalue": "invalid syntax (1707643268.py, line 2)",
     "output_type": "error",
     "traceback": [
      "\u001b[1;36m  Input \u001b[1;32mIn [3]\u001b[1;36m\u001b[0m\n\u001b[1;33m    print\"\"\"Jarak antara Kampus dengan rumahku adalah 50 Km,sedangkan temanku ke 10 Km, berapa waktu yg dibutuhkan ? \"\"\"\u001b[0m\n\u001b[1;37m         ^\u001b[0m\n\u001b[1;31mSyntaxError\u001b[0m\u001b[1;31m:\u001b[0m invalid syntax\n"
     ]
    }
   ],
   "source": [
    "def jarak():\n",
    "    print\"\"\"Jarak antara Kampus dengan rumahku adalah 50 Km,sedangkan temanku ke 10 Km, berapa waktu yg dibutuhkan ? \"\"\""
   ]
  },
  {
   "cell_type": "code",
   "execution_count": 5,
   "id": "692c6ef2",
   "metadata": {},
   "outputs": [
    {
     "name": "stdout",
     "output_type": "stream",
     "text": [
      "Jarak antara Kampus dengan rumahku adalah 50 Km,sedangkan temanku ke 10 Km, berapa waktu yg dibutuhkan ? \n"
     ]
    }
   ],
   "source": [
    "a= \"\"\"Jarak antara Kampus dengan rumahku adalah 50 Km,sedangkan temanku ke 10 Km, berapa waktu yg dibutuhkan ? \"\"\"\n",
    "print(a)"
   ]
  },
  {
   "cell_type": "code",
   "execution_count": null,
   "id": "04c4c1b2",
   "metadata": {},
   "outputs": [],
   "source": []
  }
 ],
 "metadata": {
  "kernelspec": {
   "display_name": "Python 3 (ipykernel)",
   "language": "python",
   "name": "python3"
  },
  "language_info": {
   "codemirror_mode": {
    "name": "ipython",
    "version": 3
   },
   "file_extension": ".py",
   "mimetype": "text/x-python",
   "name": "python",
   "nbconvert_exporter": "python",
   "pygments_lexer": "ipython3",
   "version": "3.9.12"
  }
 },
 "nbformat": 4,
 "nbformat_minor": 5
}
