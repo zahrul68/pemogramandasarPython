{
 "cells": [
  {
   "cell_type": "code",
   "execution_count": 2,
   "id": "f8b1cf35",
   "metadata": {},
   "outputs": [
    {
     "name": "stdout",
     "output_type": "stream",
     "text": [
      "Hello World\n",
      "---------------\n",
      "Pemrogaman Python itu menyenangkan\n"
     ]
    }
   ],
   "source": [
    "print(\"Hello World\")\n",
    "print(\"---------------\")\n",
    "print(\"Pemrogaman Python itu menyenangkan\")"
   ]
  },
  {
   "cell_type": "code",
   "execution_count": 8,
   "id": "a1af84a1",
   "metadata": {},
   "outputs": [
    {
     "name": "stdout",
     "output_type": "stream",
     "text": [
      "Nim Anda ? =  22111001\n",
      "Nama Anda ? =  Junaidi Surya\n",
      "Alamat Anda ? =  Jambi \n",
      "============================\n"
     ]
    }
   ],
   "source": [
    "nim=\"22111001\"\n",
    "nama=\"Junaidi Surya\"\n",
    "Alamat=\"Jambi \"\n",
    "print(\"Nim Anda ? = \",nim)\n",
    "print(\"Nama Anda ? = \",nama)\n",
    "print(\"Alamat Anda ? = \",Alamat)\n",
    "print(\"============================\")\n"
   ]
  },
  {
   "cell_type": "code",
   "execution_count": 12,
   "id": "e6e281c2",
   "metadata": {},
   "outputs": [
    {
     "name": "stdout",
     "output_type": "stream",
     "text": [
      "Masukkan Nim Anda ? =22111001\n",
      "Masukkan Nama Anda ? =Junaidi Surya\n",
      "Masukkan Alamat Anda ? =Jambi\n",
      "==========================\n",
      "Nim Saya Adalah =  22111001\n",
      "Nama Saya Adalah =  Junaidi Surya\n",
      "Alamat Saya Adalah =  Jambi\n"
     ]
    }
   ],
   "source": [
    "nim=input(\"Masukkan Nim Anda ? =\")\n",
    "nama=input(\"Masukkan Nama Anda ? =\")\n",
    "alamat=input(\"Masukkan Alamat Anda ? =\")\n",
    "print(\"==========================\")\n",
    "print(\"Nim Saya Adalah = \",nim)\n",
    "print(\"Nama Saya Adalah = \",nama)\n",
    "print(\"Alamat Saya Adalah = \",alamat)\n"
   ]
  },
  {
   "cell_type": "code",
   "execution_count": 1,
   "id": "f40939ce",
   "metadata": {},
   "outputs": [
    {
     "name": "stdout",
     "output_type": "stream",
     "text": [
      "Masukan Data 1 ? = 10\n",
      "Masukan Data 2 ? = 3\n",
      "==============================\n",
      "Hasil Penjumlahan =  13\n",
      "Hasil Pengurangan =  7\n",
      "Hasil Perkalian =  30\n",
      "Hasil Pembagian =  3.3333333333333335\n",
      "Hasil Pangkatan =  1000\n",
      "Hasil Mod =  1\n"
     ]
    }
   ],
   "source": [
    "a=int(input(\"Masukan Data 1 ? = \"))\n",
    "b=int(input(\"Masukan Data 2 ? = \"))\n",
    "print(\"==============================\")\n",
    "hasil=a+b\n",
    "hasil2=a-b\n",
    "hasil3=a*b\n",
    "hasil4=a/b\n",
    "hasil5=a**b\n",
    "hasil6=a%b\n",
    "print (\"Hasil Penjumlahan = \",hasil)\n",
    "print (\"Hasil Pengurangan = \",hasil2)\n",
    "print (\"Hasil Perkalian = \",hasil3)\n",
    "print (\"Hasil Pembagian = \",hasil4)\n",
    "print (\"Hasil Pangkatan = \",hasil5)\n",
    "print (\"Hasil Mod = \",hasil6)"
   ]
  },
  {
   "cell_type": "code",
   "execution_count": null,
   "id": "ea8a118b",
   "metadata": {},
   "outputs": [],
   "source": []
  }
 ],
 "metadata": {
  "kernelspec": {
   "display_name": "Python 3 (ipykernel)",
   "language": "python",
   "name": "python3"
  },
  "language_info": {
   "codemirror_mode": {
    "name": "ipython",
    "version": 3
   },
   "file_extension": ".py",
   "mimetype": "text/x-python",
   "name": "python",
   "nbconvert_exporter": "python",
   "pygments_lexer": "ipython3",
   "version": "3.9.12"
  }
 },
 "nbformat": 4,
 "nbformat_minor": 5
}
