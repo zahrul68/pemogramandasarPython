{
 "cells": [
  {
   "cell_type": "code",
   "execution_count": 1,
   "id": "84d9f56c",
   "metadata": {},
   "outputs": [
    {
     "name": "stdout",
     "output_type": "stream",
     "text": [
      "3 Tahun =  36\n"
     ]
    }
   ],
   "source": [
    "print(\"3 Tahun = \",3 *12)"
   ]
  },
  {
   "cell_type": "code",
   "execution_count": 3,
   "id": "9a733e96",
   "metadata": {},
   "outputs": [
    {
     "name": "stdout",
     "output_type": "stream",
     "text": [
      "1000000.0\n"
     ]
    }
   ],
   "source": [
    "a=36000000\n",
    "angs=a/(3*12)\n",
    "print(angs)"
   ]
  },
  {
   "cell_type": "code",
   "execution_count": 6,
   "id": "e3f1cd53",
   "metadata": {},
   "outputs": [
    {
     "name": "stdout",
     "output_type": "stream",
     "text": [
      "Ke -  1 => 12\n",
      "Ke -  2 => 24\n",
      "Ke -  3 => 36\n"
     ]
    }
   ],
   "source": [
    "for x in range(1,3+1):\n",
    "    print(\"Ke - \",x ,\"=>\",x*12)"
   ]
  },
  {
   "cell_type": "code",
   "execution_count": null,
   "id": "067b82b4",
   "metadata": {},
   "outputs": [],
   "source": []
  }
 ],
 "metadata": {
  "kernelspec": {
   "display_name": "Python 3 (ipykernel)",
   "language": "python",
   "name": "python3"
  },
  "language_info": {
   "codemirror_mode": {
    "name": "ipython",
    "version": 3
   },
   "file_extension": ".py",
   "mimetype": "text/x-python",
   "name": "python",
   "nbconvert_exporter": "python",
   "pygments_lexer": "ipython3",
   "version": "3.9.12"
  }
 },
 "nbformat": 4,
 "nbformat_minor": 5
}
