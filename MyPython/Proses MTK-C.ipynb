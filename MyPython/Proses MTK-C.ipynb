{
 "cells": [
  {
   "cell_type": "code",
   "execution_count": 3,
   "id": "6137de9f",
   "metadata": {},
   "outputs": [
    {
     "name": "stdout",
     "output_type": "stream",
     "text": [
      "Masukkan Gaji Pokok = Rp.1000000\n",
      "1300000.0\n"
     ]
    }
   ],
   "source": [
    "gapok =int(input(\"Masukkan Gaji Pokok = Rp.\"))\n",
    "tf=0.1 * gapok\n",
    "ts=0.15 * gapok\n",
    "tk=0.05 * gapok\n",
    "gator=gapok+tf+ts+tk\n",
    "print(gator)"
   ]
  }
 ],
 "metadata": {
  "kernelspec": {
   "display_name": "Python 3 (ipykernel)",
   "language": "python",
   "name": "python3"
  },
  "language_info": {
   "codemirror_mode": {
    "name": "ipython",
    "version": 3
   },
   "file_extension": ".py",
   "mimetype": "text/x-python",
   "name": "python",
   "nbconvert_exporter": "python",
   "pygments_lexer": "ipython3",
   "version": "3.9.12"
  }
 },
 "nbformat": 4,
 "nbformat_minor": 5
}
