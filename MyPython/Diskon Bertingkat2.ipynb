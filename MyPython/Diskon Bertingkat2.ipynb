{
 "cells": [
  {
   "cell_type": "code",
   "execution_count": 11,
   "id": "a57a2f87",
   "metadata": {},
   "outputs": [
    {
     "name": "stdout",
     "output_type": "stream",
     "text": [
      "Masukkan Harga : Rp. 100000\n",
      "Diskon Awal: Rp. 30000.0\n",
      "Pembayaran : Rp. 15000.0\n"
     ]
    }
   ],
   "source": [
    "Hj=int(input(\"Masukkan Harga : Rp. \"))\n",
    "d=Hj-((Hj)* 0.7)\n",
    "d2=d-((d)*0.5)\n",
    "print(\"Diskon Awal: Rp.\",d)\n",
    "print(\"Pembayaran : Rp.\",d2)"
   ]
  },
  {
   "cell_type": "code",
   "execution_count": 4,
   "id": "6f952365",
   "metadata": {},
   "outputs": [
    {
     "name": "stdout",
     "output_type": "stream",
     "text": [
      "Masukkan Harga : Rp. 50000\n",
      "Jumlah barang : 2\n",
      "Pembayarn : Rp. 21000.0\n"
     ]
    }
   ],
   "source": [
    "hrg=int(input(\"Masukkan Harga : Rp. \"))\n",
    "jml=int(input(\"Jumlah barang : \"))\n",
    "Hasil=hrg*jml\n",
    "if (Hasil>=100000):\n",
    "    d=Hasil-((Hasil)* 0.7)\n",
    "    d2=d-((d)* 0.3)\n",
    "    print(\"Pembayarn : Rp.\",d2)\n",
    "else:\n",
    "    d=Hasil-((Hasil)* 0.7)\n",
    "    d2=d-((d)* 0.2)\n",
    "    print(\"Pembayarn : Rp.\",d2)"
   ]
  },
  {
   "cell_type": "code",
   "execution_count": 5,
   "id": "52e04ef5",
   "metadata": {},
   "outputs": [
    {
     "name": "stdout",
     "output_type": "stream",
     "text": [
      "Masukkan Harga : Rp. 1000000\n",
      "Jumlah barang : 1\n",
      "Pembayarn : Rp. 210000.0\n"
     ]
    }
   ],
   "source": [
    "hrg=int(input(\"Masukkan Harga : Rp. \"))\n",
    "jml=int(input(\"Jumlah barang : \"))\n",
    "Hasil=hrg*jml\n",
    "if (Hasil>=100000):\n",
    "    d=Hasil-((Hasil)* 0.7)\n",
    "    d2=d-((d)* 0.3)\n",
    "    print(\"Pembayarn : Rp.\",d2)\n",
    "else:\n",
    "    d=Hasil-((Hasil)* 0.7)\n",
    "    d2=d-((d)* 0.2)\n",
    "    print(\"Pembayarn : Rp.\",d2)"
   ]
  },
  {
   "cell_type": "code",
   "execution_count": 3,
   "id": "85355c13",
   "metadata": {},
   "outputs": [
    {
     "data": {
      "text/plain": [
       "0"
      ]
     },
     "execution_count": 3,
     "metadata": {},
     "output_type": "execute_result"
    }
   ],
   "source": [
    "1 and 0"
   ]
  }
 ],
 "metadata": {
  "kernelspec": {
   "display_name": "Python 3 (ipykernel)",
   "language": "python",
   "name": "python3"
  },
  "language_info": {
   "codemirror_mode": {
    "name": "ipython",
    "version": 3
   },
   "file_extension": ".py",
   "mimetype": "text/x-python",
   "name": "python",
   "nbconvert_exporter": "python",
   "pygments_lexer": "ipython3",
   "version": "3.9.12"
  }
 },
 "nbformat": 4,
 "nbformat_minor": 5
}
